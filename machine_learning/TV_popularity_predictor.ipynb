{
 "cells": [
  {
   "cell_type": "markdown",
   "metadata": {},
   "source": [
    "# TV shows Popularity Predictor (39%)\n",
    "\n",
    "The goal of this challenge is to create a model that predicts the `popularity` of a movie or TV show\n",
    "\n",
    "<img src=\"image.jpg\" width=300 />\n",
    "\n",
    "\n",
    "\n",
    "\n",
    "The dataset contains a list of movies and TV shows with the following characteristics:\n",
    "- `title`: title of the movie in english\n",
    "- `original_title`: original title of the movie \n",
    "- `duration_min`: duration of the movie in minutes\n",
    "- `popularity`: popularity of the movie in terms of review scores\n",
    "- `release_date`: release date\n",
    "- `description`: short summary of the movie\n",
    "- `budget`: budget spent to produce the movie in USD\n",
    "- `revenue`: movie revenue in USD \n",
    "- `original_language`: original language \n",
    "- `status`: is the movie already released or not\n",
    "- `number_of_awards_won`: number of awards won for the movie\n",
    "- `number_of_nominations`: number of nominations\n",
    "- `has_collection`: if the movie is part of a sequel or not\n",
    "- `all_genres`: genres that described the movie (can be zero, one or many!) \n",
    "- `top_countries`: countries where the movie was produced (can be zero, one or many!) \n",
    "- `number_of_top_productions`: number of top production companies that produced the film if any. \n",
    "Top production companies includes: Warner Bros, Universal Pictures, Paramount Pictures, Canal+, etc...\n",
    "- `available_in_english`: whether the movie is available in english or not"
   ]
  },
  {
   "cell_type": "markdown",
   "metadata": {},
   "source": [
    "## Imports\n",
    "\n",
    "Run the following cell to load the basic packages:"
   ]
  },
  {
   "cell_type": "code",
   "execution_count": 2,
   "metadata": {
    "ExecuteTime": {
     "end_time": "2021-06-29T17:29:05.325249Z",
     "start_time": "2021-06-29T17:29:04.415422Z"
    }
   },
   "outputs": [],
   "source": [
    "import numpy as np\n",
    "import pandas as pd\n",
    "import matplotlib.pyplot as plt\n",
    "import seaborn as sns\n",
    "from nbresult import ChallengeResult"
   ]
  },
  {
   "cell_type": "markdown",
   "metadata": {},
   "source": [
    "## Data collection\n",
    "\n",
    "📝 **Load the `movie_popularity.csv` dataset from the provided this [URL](https://wagon-public-datasets.s3.amazonaws.com/certification_france_2021_q2/tv_movies_popularity.csv)**\n",
    "- First, check and remove the rows that may be complete duplicate from one another (we never know!)\n",
    "- Then, drop the columns that have too much missing values\n",
    "- Finally, drop the few remaining rows that have missing values\n",
    "- Store the result in a `DataFrame` named `data`"
   ]
  },
  {
   "cell_type": "code",
   "execution_count": 3,
   "metadata": {
    "ExecuteTime": {
     "end_time": "2021-06-29T17:29:09.664618Z",
     "start_time": "2021-06-29T17:29:05.328223Z"
    },
    "slideshow": {
     "slide_type": "notes"
    },
    "tags": [
     "challengify"
    ]
   },
   "outputs": [
    {
     "data": {
      "text/html": [
       "<div>\n",
       "<style scoped>\n",
       "    .dataframe tbody tr th:only-of-type {\n",
       "        vertical-align: middle;\n",
       "    }\n",
       "\n",
       "    .dataframe tbody tr th {\n",
       "        vertical-align: top;\n",
       "    }\n",
       "\n",
       "    .dataframe thead th {\n",
       "        text-align: right;\n",
       "    }\n",
       "</style>\n",
       "<table border=\"1\" class=\"dataframe\">\n",
       "  <thead>\n",
       "    <tr style=\"text-align: right;\">\n",
       "      <th></th>\n",
       "      <th>original_title</th>\n",
       "      <th>title</th>\n",
       "      <th>popularity</th>\n",
       "      <th>release_date</th>\n",
       "      <th>duration_min</th>\n",
       "      <th>description</th>\n",
       "      <th>budget</th>\n",
       "      <th>revenue</th>\n",
       "      <th>original_language</th>\n",
       "      <th>status</th>\n",
       "      <th>number_of_awards_won</th>\n",
       "      <th>number_of_nominations</th>\n",
       "      <th>has_collection</th>\n",
       "      <th>all_genres</th>\n",
       "      <th>top_countries</th>\n",
       "      <th>number_of_top_productions</th>\n",
       "      <th>available_in_english</th>\n",
       "    </tr>\n",
       "  </thead>\n",
       "  <tbody>\n",
       "    <tr>\n",
       "      <th>0</th>\n",
       "      <td>Hot Tub Time Machine 2</td>\n",
       "      <td>Hot Tub Time Machine 2</td>\n",
       "      <td>6.575393</td>\n",
       "      <td>2015-02-20</td>\n",
       "      <td>93.0</td>\n",
       "      <td>When Lou's shot in the groin, Nick and Jacob d...</td>\n",
       "      <td>14000000</td>\n",
       "      <td>12314651.0</td>\n",
       "      <td>en</td>\n",
       "      <td>Released</td>\n",
       "      <td>0</td>\n",
       "      <td>2</td>\n",
       "      <td>1</td>\n",
       "      <td>Comedy</td>\n",
       "      <td>United States of America</td>\n",
       "      <td>3</td>\n",
       "      <td>True</td>\n",
       "    </tr>\n",
       "    <tr>\n",
       "      <th>1</th>\n",
       "      <td>The Princess Diaries 2: Royal Engagement</td>\n",
       "      <td>The Princess Diaries 2: Royal Engagement</td>\n",
       "      <td>8.248895</td>\n",
       "      <td>2004-08-06</td>\n",
       "      <td>113.0</td>\n",
       "      <td>Now settled in Genovia, Princess Mia faces a n...</td>\n",
       "      <td>40000000</td>\n",
       "      <td>95149435.0</td>\n",
       "      <td>en</td>\n",
       "      <td>Released</td>\n",
       "      <td>1</td>\n",
       "      <td>2</td>\n",
       "      <td>1</td>\n",
       "      <td>Comedy, Drama, Family, Romance</td>\n",
       "      <td>United States of America</td>\n",
       "      <td>1</td>\n",
       "      <td>True</td>\n",
       "    </tr>\n",
       "  </tbody>\n",
       "</table>\n",
       "</div>"
      ],
      "text/plain": [
       "                             original_title  \\\n",
       "0                    Hot Tub Time Machine 2   \n",
       "1  The Princess Diaries 2: Royal Engagement   \n",
       "\n",
       "                                      title  popularity release_date  \\\n",
       "0                    Hot Tub Time Machine 2    6.575393   2015-02-20   \n",
       "1  The Princess Diaries 2: Royal Engagement    8.248895   2004-08-06   \n",
       "\n",
       "   duration_min                                        description    budget  \\\n",
       "0          93.0  When Lou's shot in the groin, Nick and Jacob d...  14000000   \n",
       "1         113.0  Now settled in Genovia, Princess Mia faces a n...  40000000   \n",
       "\n",
       "      revenue original_language    status  number_of_awards_won  \\\n",
       "0  12314651.0                en  Released                     0   \n",
       "1  95149435.0                en  Released                     1   \n",
       "\n",
       "   number_of_nominations  has_collection                      all_genres  \\\n",
       "0                      2               1                          Comedy   \n",
       "1                      2               1  Comedy, Drama, Family, Romance   \n",
       "\n",
       "              top_countries  number_of_top_productions  available_in_english  \n",
       "0  United States of America                          3                  True  \n",
       "1  United States of America                          1                  True  "
      ]
     },
     "execution_count": 3,
     "metadata": {},
     "output_type": "execute_result"
    }
   ],
   "source": [
    "url = 'https://wagon-public-datasets.s3.amazonaws.com/certification_france_2021_q2/tv_movies_popularity.csv'\n",
    "data = pd.read_csv(url)\n",
    "data.head(2)"
   ]
  },
  {
   "cell_type": "code",
   "execution_count": 4,
   "metadata": {},
   "outputs": [
    {
     "data": {
      "text/plain": [
       "400"
      ]
     },
     "execution_count": 4,
     "metadata": {},
     "output_type": "execute_result"
    }
   ],
   "source": [
    "data.duplicated().sum()"
   ]
  },
  {
   "cell_type": "code",
   "execution_count": 5,
   "metadata": {},
   "outputs": [
    {
     "name": "stdout",
     "output_type": "stream",
     "text": [
      "Before: 6864 lines\n",
      "After: 6464 lines\n"
     ]
    }
   ],
   "source": [
    "print(f'Before: {len(data)} lines') \n",
    "data = data.drop_duplicates() # Remove duplicates\n",
    "print(f'After: {len(data)} lines') "
   ]
  },
  {
   "cell_type": "code",
   "execution_count": 6,
   "metadata": {},
   "outputs": [
    {
     "data": {
      "text/plain": [
       "revenue                      3847\n",
       "title                           1\n",
       "available_in_english            0\n",
       "popularity                      0\n",
       "release_date                    0\n",
       "duration_min                    0\n",
       "description                     0\n",
       "budget                          0\n",
       "original_language               0\n",
       "number_of_top_productions       0\n",
       "status                          0\n",
       "number_of_awards_won            0\n",
       "number_of_nominations           0\n",
       "has_collection                  0\n",
       "all_genres                      0\n",
       "top_countries                   0\n",
       "original_title                  0\n",
       "dtype: int64"
      ]
     },
     "execution_count": 6,
     "metadata": {},
     "output_type": "execute_result"
    }
   ],
   "source": [
    "data.isnull().sum().sort_values(ascending=False)"
   ]
  },
  {
   "cell_type": "code",
   "execution_count": 7,
   "metadata": {},
   "outputs": [],
   "source": [
    "#getting ride of revenue feature\n",
    "data.drop(columns='revenue', inplace=True)"
   ]
  },
  {
   "cell_type": "code",
   "execution_count": 8,
   "metadata": {},
   "outputs": [],
   "source": [
    "#getting ride of the one line where title is missing\n",
    "data.dropna(subset=['title'], inplace =True)"
   ]
  },
  {
   "cell_type": "markdown",
   "metadata": {},
   "source": [
    "### 🧪 Run the following cell to save your results"
   ]
  },
  {
   "cell_type": "code",
   "execution_count": 9,
   "metadata": {
    "ExecuteTime": {
     "end_time": "2021-06-29T17:29:09.754301Z",
     "start_time": "2021-06-29T17:29:09.746171Z"
    }
   },
   "outputs": [],
   "source": [
    "from nbresult import ChallengeResult\n",
    "\n",
    "result = ChallengeResult(\n",
    "    \"data_cleaning\",\n",
    "    columns=data.columns,\n",
    "    cleaning=sum(data.isnull().sum()),\n",
    "    shape=data.shape)\n",
    "result.write()"
   ]
  },
  {
   "cell_type": "markdown",
   "metadata": {},
   "source": [
    "## Baseline model"
   ]
  },
  {
   "cell_type": "markdown",
   "metadata": {},
   "source": [
    "### The metric"
   ]
  },
  {
   "cell_type": "markdown",
   "metadata": {},
   "source": [
    "📝 **We want to predict `popularity`: Start by plotting a histogram of the target to visualize it**"
   ]
  },
  {
   "cell_type": "code",
   "execution_count": 10,
   "metadata": {
    "ExecuteTime": {
     "end_time": "2021-06-29T17:29:13.047468Z",
     "start_time": "2021-06-29T17:29:13.045265Z"
    },
    "slideshow": {
     "slide_type": "notes"
    },
    "tags": [
     "challengify"
    ]
   },
   "outputs": [
    {
     "data": {
      "image/png": "[encoded data removed]",
      "text/plain": [
       "<Figure size 864x360 with 2 Axes>"
      ]
     },
     "metadata": {
      "needs_background": "light"
     },
     "output_type": "display_data"
    }
   ],
   "source": [
    "def plot_feature(feat, df):\n",
    "\n",
    "    f, (ax_box, ax_hist) = plt.subplots(2,figsize=(12,5), sharex=True, gridspec_kw={\"height_ratios\": (.15, .85)})\n",
    "    x=df[feat]\n",
    "    sns.boxplot(x = feat, data = df, ax=ax_box)\n",
    "    sns.histplot(x = feat, data = df, ax=ax_hist)\n",
    "    plt.axvline(x = x.mean(), c = 'red')\n",
    "    plt.axvline(x = x.median(), c = 'green')\n",
    "\n",
    "    ax_box.set(yticks=[], xlim=[0 , 50])\n",
    "    ax_hist.set(yticks=[], xlim=[0 , 50])\n",
    "    sns.despine(ax=ax_hist)\n",
    "    sns.despine(ax=ax_box, left=True)\n",
    "    plt.show()\n",
    "\n",
    "plot_feature('popularity', data)"
   ]
  },
  {
   "cell_type": "markdown",
   "metadata": {},
   "source": [
    "📝 **Which sklearn's scoring [metric](https://scikit-learn.org/stable/modules/model_evaluation.html) should we use if we want it to:**\n",
    "\n",
    "- Be better when greater (i.e. metric_good_model > metric_bad_model)\n",
    "- Penalize **more** an error between 10 and 20 compared with an error between 110 and 120\n",
    "- Said otherwise, what matter should be the **relative error ratio**, more than the absolute error difference\n",
    "\n",
    "Hint: the histogram plotted above should give you some intuition about it\n",
    "\n",
    "👉 Store its exact [sklearn scoring name](https://scikit-learn.org/stable/modules/model_evaluation.html) as `string` in the variable `scoring` below.\n",
    "\n",
    "🚨 You must use this metric for the rest of the challenge"
   ]
  },
  {
   "cell_type": "code",
   "execution_count": 11,
   "metadata": {},
   "outputs": [],
   "source": [
    "#to penalize more the error between 10 and 20 we can use a log error\n",
    "#it has to be negative to converge with the best solution\n",
    "\n",
    "from sklearn.metrics import mean_squared_log_error\n",
    "scoring = 'neg_mean_squared_log_error'\n"
   ]
  },
  {
   "cell_type": "markdown",
   "metadata": {},
   "source": [
    "<details>\n",
    "    <summary>💡 Hint</summary>\n",
    "It is around here!\n",
    "<img src=\"scores.jpg\" width=200 height=400 />\n",
    "</details>"
   ]
  },
  {
   "cell_type": "markdown",
   "metadata": {},
   "source": [
    "### X,y"
   ]
  },
  {
   "cell_type": "markdown",
   "metadata": {},
   "source": [
    "**📝 Define `X` as the features Dataframe (keep all features) and `y` as the target Series.**"
   ]
  },
  {
   "cell_type": "code",
   "execution_count": 12,
   "metadata": {
    "ExecuteTime": {
     "end_time": "2021-06-29T17:29:13.054580Z",
     "start_time": "2021-06-29T17:29:13.049865Z"
    },
    "tags": [
     "challengify"
    ]
   },
   "outputs": [],
   "source": [
    "target = 'popularity'\n",
    "X = data.drop(columns=target)\n",
    "y= data[target]"
   ]
  },
  {
   "cell_type": "markdown",
   "metadata": {},
   "source": [
    "### Basic pipeline"
   ]
  },
  {
   "cell_type": "markdown",
   "metadata": {},
   "source": [
    "📝 **Check unique values per features**"
   ]
  },
  {
   "cell_type": "code",
   "execution_count": 13,
   "metadata": {
    "ExecuteTime": {
     "end_time": "2021-06-29T17:29:13.074836Z",
     "start_time": "2021-06-29T17:29:13.062527Z"
    },
    "tags": [
     "challengify"
    ]
   },
   "outputs": [
    {
     "name": "stdout",
     "output_type": "stream",
     "text": [
      "-6350 unique for \"original_title\"\n",
      "-6337 unique for \"title\"\n",
      "-4320 unique for \"release_date\"\n",
      "-152 unique for \"duration_min\"\n",
      "-6449 unique for \"description\"\n",
      "-636 unique for \"budget\"\n",
      "-42 unique for \"original_language\"\n",
      "-3 unique for \"status\"\n",
      "-124 unique for \"number_of_awards_won\"\n",
      "-180 unique for \"number_of_nominations\"\n",
      "-2 unique for \"has_collection\"\n",
      "-745 unique for \"all_genres\"\n",
      "-320 unique for \"top_countries\"\n",
      "-5 unique for \"number_of_top_productions\"\n",
      "-2 unique for \"available_in_english\"\n"
     ]
    }
   ],
   "source": [
    "for feat in X.columns:\n",
    "    print(f'-{len(X[feat].unique())} unique for \"{feat}\"')"
   ]
  },
  {
   "cell_type": "markdown",
   "metadata": {},
   "source": [
    "In this baseline, let's forget about the columns below that are difficult to process"
   ]
  },
  {
   "cell_type": "code",
   "execution_count": 14,
   "metadata": {
    "ExecuteTime": {
     "end_time": "2021-06-29T17:29:13.102327Z",
     "start_time": "2021-06-29T17:29:13.099066Z"
    }
   },
   "outputs": [],
   "source": [
    "text = ['description', 'original_title', 'title']\n",
    "dates = ['release_date'] "
   ]
  },
  {
   "cell_type": "code",
   "execution_count": 15,
   "metadata": {},
   "outputs": [],
   "source": [
    "difficult_feat = set(text + dates)"
   ]
  },
  {
   "cell_type": "markdown",
   "metadata": {},
   "source": [
    "We will simply scale the numerical features and one-hot-encode the categorical ones remaining\n",
    "\n",
    "📝 **Prepare 2 `list`s of features names as `str`**:\n",
    "- `numerical` which contains **only** numerical features\n",
    "- `categorical` which contains **only** categorical features (exept text and dates above)"
   ]
  },
  {
   "cell_type": "code",
   "execution_count": 16,
   "metadata": {},
   "outputs": [
    {
     "data": {
      "text/plain": [
       "['number_of_awards_won',\n",
       " 'number_of_top_productions',\n",
       " 'budget',\n",
       " 'duration_min',\n",
       " 'number_of_nominations',\n",
       " 'has_collection']"
      ]
     },
     "execution_count": 16,
     "metadata": {},
     "output_type": "execute_result"
    }
   ],
   "source": [
    "numerical = X.select_dtypes(exclude=['object', 'bool']).columns\n",
    "numerical = list(set(numerical) - difficult_feat)\n",
    "numerical"
   ]
  },
  {
   "cell_type": "code",
   "execution_count": 17,
   "metadata": {
    "ExecuteTime": {
     "end_time": "2021-06-29T17:29:13.107916Z",
     "start_time": "2021-06-29T17:29:13.104876Z"
    },
    "tags": [
     "challengify"
    ]
   },
   "outputs": [
    {
     "data": {
      "text/plain": [
       "['top_countries',\n",
       " 'available_in_english',\n",
       " 'original_language',\n",
       " 'status',\n",
       " 'all_genres']"
      ]
     },
     "execution_count": 17,
     "metadata": {},
     "output_type": "execute_result"
    }
   ],
   "source": [
    "categorical = X.select_dtypes(include=['object', 'bool']).columns\n",
    "categorical = list(set(categorical) - difficult_feat)\n",
    "categorical"
   ]
  },
  {
   "cell_type": "markdown",
   "metadata": {},
   "source": [
    "### Pipelining\n",
    "\n",
    "You are going to build a basic pipeline made of a basic preprocessing and a trees-based model of your choice."
   ]
  },
  {
   "cell_type": "markdown",
   "metadata": {},
   "source": [
    "#### Preprocessing pipeline\n",
    "\n",
    "**📝 Create a basic preprocessing pipeline for the 2 types of features above:**\n",
    "- It should scale the `numerical` features\n",
    "- one-hot-encode the `categorical` and `boolean` features\n",
    "- drop the others\n",
    "- Store your pipeline in a `basic_preprocessing` variable"
   ]
  },
  {
   "cell_type": "markdown",
   "metadata": {},
   "source": [
    "!pip install --upgrade pip"
   ]
  },
  {
   "cell_type": "markdown",
   "metadata": {},
   "source": [
    "!pip install --upgrade scikit-learn"
   ]
  },
  {
   "cell_type": "code",
   "execution_count": 1,
   "metadata": {
    "ExecuteTime": {
     "end_time": "2021-06-29T17:29:13.475427Z",
     "start_time": "2021-06-29T17:29:13.109926Z"
    }
   },
   "outputs": [],
   "source": [
    "# Execute this cell to enable a nice display for your pipelines\n",
    "from sklearn.pipeline import Pipeline\n",
    "from sklearn.preprocessing import FunctionTransformer\n",
    "from sklearn.impute import KNNImputer\n",
    "from sklearn.preprocessing import StandardScaler,MinMaxScaler,RobustScaler\n",
    "from sklearn.linear_model import LogisticRegression, Ridge\n",
    "from sklearn.compose import ColumnTransformer\n",
    "from sklearn.preprocessing import OneHotEncoder\n",
    "from sklearn.svm import SVC\n",
    "from sklearn import set_config; set_config(display='diagram')"
   ]
  },
  {
   "cell_type": "code",
   "execution_count": 18,
   "metadata": {
    "ExecuteTime": {
     "end_time": "2021-06-29T17:29:13.497003Z",
     "start_time": "2021-06-29T17:29:13.477748Z"
    },
    "tags": [
     "challengify"
    ]
   },
   "outputs": [
    {
     "data": {
      "image/png": "[encoded data removed]",
      "text/plain": [
       "<Figure size 864x360 with 2 Axes>"
      ]
     },
     "metadata": {
      "needs_background": "light"
     },
     "output_type": "display_data"
    },
    {
     "data": {
      "image/png": "[encoded data removed]",
      "text/plain": [
       "<Figure size 864x360 with 2 Axes>"
      ]
     },
     "metadata": {
      "needs_background": "light"
     },
     "output_type": "display_data"
    },
    {
     "data": {
      "image/png": "[encoded data removed]",
      "text/plain": [
       "<Figure size 864x360 with 2 Axes>"
      ]
     },
     "metadata": {
      "needs_background": "light"
     },
     "output_type": "display_data"
    },
    {
     "data": {
      "image/png": "[encoded data removed]",
      "text/plain": [
       "<Figure size 864x360 with 2 Axes>"
      ]
     },
     "metadata": {
      "needs_background": "light"
     },
     "output_type": "display_data"
    },
    {
     "data": {
      "image/png": "[encoded data removed]",
      "text/plain": [
       "<Figure size 864x360 with 2 Axes>"
      ]
     },
     "metadata": {
      "needs_background": "light"
     },
     "output_type": "display_data"
    },
    {
     "data": {
      "image/png": "[encoded data removed]",
      "text/plain": [
       "<Figure size 864x360 with 2 Axes>"
      ]
     },
     "metadata": {
      "needs_background": "light"
     },
     "output_type": "display_data"
    }
   ],
   "source": [
    "def plot_feature2(feat, df):\n",
    "\n",
    "    f, (ax_box, ax_hist) = plt.subplots(2,figsize=(12,5), sharex=True, gridspec_kw={\"height_ratios\": (.15, .85)})\n",
    "    x=df[feat]\n",
    "    sns.boxplot(x = feat, data = df, ax=ax_box)\n",
    "    sns.histplot(x = feat, data = df, ax=ax_hist)\n",
    "    plt.axvline(x = x.mean(), c = 'red')\n",
    "    plt.axvline(x = x.median(), c = 'green')\n",
    "\n",
    "    ax_box.set(yticks=[])\n",
    "    ax_hist.set(yticks=[])\n",
    "    sns.despine(ax=ax_hist)\n",
    "    sns.despine(ax=ax_box, left=True)\n",
    "    plt.show()\n",
    "    \n",
    "for f in numerical:\n",
    "    plot_feature2(f, X)"
   ]
  },
  {
   "cell_type": "markdown",
   "metadata": {},
   "source": [
    "**📝 Encode the features and store the result in the variable `X_basic_preprocessing`.**"
   ]
  },
  {
   "cell_type": "code",
   "execution_count": 19,
   "metadata": {
    "ExecuteTime": {
     "end_time": "2021-06-29T17:29:13.523938Z",
     "start_time": "2021-06-29T17:29:13.499042Z"
    },
    "tags": [
     "challengify"
    ]
   },
   "outputs": [
    {
     "data": {
      "text/html": [
       "<style>#sk-b1060c33-9cb4-45ce-be72-197fa92546da {color: black;background-color: white;}#sk-b1060c33-9cb4-45ce-be72-197fa92546da pre{padding: 0;}#sk-b1060c33-9cb4-45ce-be72-197fa92546da div.sk-toggleable {background-color: white;}#sk-b1060c33-9cb4-45ce-be72-197fa92546da label.sk-toggleable__label {cursor: pointer;display: block;width: 100%;margin-bottom: 0;padding: 0.2em 0.3em;box-sizing: border-box;text-align: center;}#sk-b1060c33-9cb4-45ce-be72-197fa92546da div.sk-toggleable__content {max-height: 0;max-width: 0;overflow: hidden;text-align: left;background-color: #f0f8ff;}#sk-b1060c33-9cb4-45ce-be72-197fa92546da div.sk-toggleable__content pre {margin: 0.2em;color: black;border-radius: 0.25em;background-color: #f0f8ff;}#sk-b1060c33-9cb4-45ce-be72-197fa92546da input.sk-toggleable__control:checked~div.sk-toggleable__content {max-height: 200px;max-width: 100%;overflow: auto;}#sk-b1060c33-9cb4-45ce-be72-197fa92546da div.sk-estimator input.sk-toggleable__control:checked~label.sk-toggleable__label {background-color: #d4ebff;}#sk-b1060c33-9cb4-45ce-be72-197fa92546da div.sk-label input.sk-toggleable__control:checked~label.sk-toggleable__label {background-color: #d4ebff;}#sk-b1060c33-9cb4-45ce-be72-197fa92546da input.sk-hidden--visually {border: 0;clip: rect(1px 1px 1px 1px);clip: rect(1px, 1px, 1px, 1px);height: 1px;margin: -1px;overflow: hidden;padding: 0;position: absolute;width: 1px;}#sk-b1060c33-9cb4-45ce-be72-197fa92546da div.sk-estimator {font-family: monospace;background-color: #f0f8ff;margin: 0.25em 0.25em;border: 1px dotted black;border-radius: 0.25em;box-sizing: border-box;}#sk-b1060c33-9cb4-45ce-be72-197fa92546da div.sk-estimator:hover {background-color: #d4ebff;}#sk-b1060c33-9cb4-45ce-be72-197fa92546da div.sk-parallel-item::after {content: \"\";width: 100%;border-bottom: 1px solid gray;flex-grow: 1;}#sk-b1060c33-9cb4-45ce-be72-197fa92546da div.sk-label:hover label.sk-toggleable__label {background-color: #d4ebff;}#sk-b1060c33-9cb4-45ce-be72-197fa92546da div.sk-serial::before {content: \"\";position: absolute;border-left: 1px solid gray;box-sizing: border-box;top: 2em;bottom: 0;left: 50%;}#sk-b1060c33-9cb4-45ce-be72-197fa92546da div.sk-serial {display: flex;flex-direction: column;align-items: center;background-color: white;}#sk-b1060c33-9cb4-45ce-be72-197fa92546da div.sk-item {z-index: 1;}#sk-b1060c33-9cb4-45ce-be72-197fa92546da div.sk-parallel {display: flex;align-items: stretch;justify-content: center;background-color: white;}#sk-b1060c33-9cb4-45ce-be72-197fa92546da div.sk-parallel-item {display: flex;flex-direction: column;position: relative;background-color: white;}#sk-b1060c33-9cb4-45ce-be72-197fa92546da div.sk-parallel-item:first-child::after {align-self: flex-end;width: 50%;}#sk-b1060c33-9cb4-45ce-be72-197fa92546da div.sk-parallel-item:last-child::after {align-self: flex-start;width: 50%;}#sk-b1060c33-9cb4-45ce-be72-197fa92546da div.sk-parallel-item:only-child::after {width: 0;}#sk-b1060c33-9cb4-45ce-be72-197fa92546da div.sk-dashed-wrapped {border: 1px dashed gray;margin: 0.2em;box-sizing: border-box;padding-bottom: 0.1em;background-color: white;position: relative;}#sk-b1060c33-9cb4-45ce-be72-197fa92546da div.sk-label label {font-family: monospace;font-weight: bold;background-color: white;display: inline-block;line-height: 1.2em;}#sk-b1060c33-9cb4-45ce-be72-197fa92546da div.sk-label-container {position: relative;z-index: 2;text-align: center;}#sk-b1060c33-9cb4-45ce-be72-197fa92546da div.sk-container {display: inline-block;position: relative;}</style><div id=\"sk-b1060c33-9cb4-45ce-be72-197fa92546da\" class\"sk-top-container\"><div class=\"sk-container\"><div class=\"sk-item sk-dashed-wrapped\"><div class=\"sk-label-container\"><div class=\"sk-label sk-toggleable\"><input class=\"sk-toggleable__control sk-hidden--visually\" id=\"9cd3143b-ab86-4725-9494-7e37783380a6\" type=\"checkbox\" ><label class=\"sk-toggleable__label\" for=\"9cd3143b-ab86-4725-9494-7e37783380a6\">ColumnTransformer</label><div class=\"sk-toggleable__content\"><pre>ColumnTransformer(transformers=[('num_transformer', RobustScaler(),\n",
       "                                 ['number_of_awards_won',\n",
       "                                  'number_of_top_productions', 'budget',\n",
       "                                  'duration_min', 'number_of_nominations',\n",
       "                                  'has_collection']),\n",
       "                                ('cat_transformer',\n",
       "                                 OneHotEncoder(handle_unknown='ignore'),\n",
       "                                 ['top_countries', 'available_in_english',\n",
       "                                  'original_language', 'status',\n",
       "                                  'all_genres'])])</pre></div></div></div><div class=\"sk-parallel\"><div class=\"sk-parallel-item\"><div class=\"sk-item\"><div class=\"sk-label-container\"><div class=\"sk-label sk-toggleable\"><input class=\"sk-toggleable__control sk-hidden--visually\" id=\"bef13c81-5f73-46c7-82d9-ed432e1472a9\" type=\"checkbox\" ><label class=\"sk-toggleable__label\" for=\"bef13c81-5f73-46c7-82d9-ed432e1472a9\">num_transformer</label><div class=\"sk-toggleable__content\"><pre>['number_of_awards_won', 'number_of_top_productions', 'budget', 'duration_min', 'number_of_nominations', 'has_collection']</pre></div></div></div><div class=\"sk-serial\"><div class=\"sk-item\"><div class=\"sk-estimator sk-toggleable\"><input class=\"sk-toggleable__control sk-hidden--visually\" id=\"6ab3bc70-f3b4-4cee-9621-6c9e07edea07\" type=\"checkbox\" ><label class=\"sk-toggleable__label\" for=\"6ab3bc70-f3b4-4cee-9621-6c9e07edea07\">RobustScaler</label><div class=\"sk-toggleable__content\"><pre>RobustScaler()</pre></div></div></div></div></div></div><div class=\"sk-parallel-item\"><div class=\"sk-item\"><div class=\"sk-label-container\"><div class=\"sk-label sk-toggleable\"><input class=\"sk-toggleable__control sk-hidden--visually\" id=\"95d492aa-5af8-406f-9bbe-e0eff4fe6306\" type=\"checkbox\" ><label class=\"sk-toggleable__label\" for=\"95d492aa-5af8-406f-9bbe-e0eff4fe6306\">cat_transformer</label><div class=\"sk-toggleable__content\"><pre>['top_countries', 'available_in_english', 'original_language', 'status', 'all_genres']</pre></div></div></div><div class=\"sk-serial\"><div class=\"sk-item\"><div class=\"sk-estimator sk-toggleable\"><input class=\"sk-toggleable__control sk-hidden--visually\" id=\"91aa973c-098a-4c27-aff8-4aa5a17535ef\" type=\"checkbox\" ><label class=\"sk-toggleable__label\" for=\"91aa973c-098a-4c27-aff8-4aa5a17535ef\">OneHotEncoder</label><div class=\"sk-toggleable__content\"><pre>OneHotEncoder(handle_unknown='ignore')</pre></div></div></div></div></div></div></div></div></div></div>"
      ],
      "text/plain": [
       "ColumnTransformer(transformers=[('num_transformer', RobustScaler(),\n",
       "                                 ['number_of_awards_won',\n",
       "                                  'number_of_top_productions', 'budget',\n",
       "                                  'duration_min', 'number_of_nominations',\n",
       "                                  'has_collection']),\n",
       "                                ('cat_transformer',\n",
       "                                 OneHotEncoder(handle_unknown='ignore'),\n",
       "                                 ['top_countries', 'available_in_english',\n",
       "                                  'original_language', 'status',\n",
       "                                  'all_genres'])])"
      ]
     },
     "execution_count": 19,
     "metadata": {},
     "output_type": "execute_result"
    }
   ],
   "source": [
    "#with all the outliers, I will go for a RobustScaler\n",
    "num_transformer = RobustScaler()\n",
    "cat_transformer = OneHotEncoder(handle_unknown='ignore')\n",
    "\n",
    "basic_preprocessing =ColumnTransformer([('num_transformer', num_transformer, numerical),\n",
    "                                          ('cat_transformer', cat_transformer, categorical)])\n",
    "basic_preprocessing"
   ]
  },
  {
   "cell_type": "code",
   "execution_count": 20,
   "metadata": {},
   "outputs": [
    {
     "data": {
      "text/html": [
       "<div>\n",
       "<style scoped>\n",
       "    .dataframe tbody tr th:only-of-type {\n",
       "        vertical-align: middle;\n",
       "    }\n",
       "\n",
       "    .dataframe tbody tr th {\n",
       "        vertical-align: top;\n",
       "    }\n",
       "\n",
       "    .dataframe thead th {\n",
       "        text-align: right;\n",
       "    }\n",
       "</style>\n",
       "<table border=\"1\" class=\"dataframe\">\n",
       "  <thead>\n",
       "    <tr style=\"text-align: right;\">\n",
       "      <th></th>\n",
       "      <th>0</th>\n",
       "      <th>1</th>\n",
       "      <th>2</th>\n",
       "      <th>3</th>\n",
       "      <th>4</th>\n",
       "      <th>5</th>\n",
       "      <th>6</th>\n",
       "      <th>7</th>\n",
       "      <th>8</th>\n",
       "      <th>9</th>\n",
       "      <th>...</th>\n",
       "      <th>1108</th>\n",
       "      <th>1109</th>\n",
       "      <th>1110</th>\n",
       "      <th>1111</th>\n",
       "      <th>1112</th>\n",
       "      <th>1113</th>\n",
       "      <th>1114</th>\n",
       "      <th>1115</th>\n",
       "      <th>1116</th>\n",
       "      <th>1117</th>\n",
       "    </tr>\n",
       "  </thead>\n",
       "  <tbody>\n",
       "    <tr>\n",
       "      <th>0</th>\n",
       "      <td>-0.333333</td>\n",
       "      <td>2.0</td>\n",
       "      <td>0.093684</td>\n",
       "      <td>-0.500000</td>\n",
       "      <td>-0.250000</td>\n",
       "      <td>1.0</td>\n",
       "      <td>0.0</td>\n",
       "      <td>0.0</td>\n",
       "      <td>0.0</td>\n",
       "      <td>0.0</td>\n",
       "      <td>...</td>\n",
       "      <td>0.0</td>\n",
       "      <td>0.0</td>\n",
       "      <td>0.0</td>\n",
       "      <td>0.0</td>\n",
       "      <td>0.0</td>\n",
       "      <td>0.0</td>\n",
       "      <td>0.0</td>\n",
       "      <td>0.0</td>\n",
       "      <td>0.0</td>\n",
       "      <td>0.0</td>\n",
       "    </tr>\n",
       "    <tr>\n",
       "      <th>1</th>\n",
       "      <td>-0.166667</td>\n",
       "      <td>0.0</td>\n",
       "      <td>0.905609</td>\n",
       "      <td>0.333333</td>\n",
       "      <td>-0.250000</td>\n",
       "      <td>1.0</td>\n",
       "      <td>0.0</td>\n",
       "      <td>0.0</td>\n",
       "      <td>0.0</td>\n",
       "      <td>0.0</td>\n",
       "      <td>...</td>\n",
       "      <td>0.0</td>\n",
       "      <td>0.0</td>\n",
       "      <td>0.0</td>\n",
       "      <td>0.0</td>\n",
       "      <td>0.0</td>\n",
       "      <td>0.0</td>\n",
       "      <td>0.0</td>\n",
       "      <td>0.0</td>\n",
       "      <td>0.0</td>\n",
       "      <td>0.0</td>\n",
       "    </tr>\n",
       "    <tr>\n",
       "      <th>2</th>\n",
       "      <td>15.833333</td>\n",
       "      <td>-1.0</td>\n",
       "      <td>-0.240455</td>\n",
       "      <td>0.000000</td>\n",
       "      <td>11.666667</td>\n",
       "      <td>0.0</td>\n",
       "      <td>0.0</td>\n",
       "      <td>0.0</td>\n",
       "      <td>0.0</td>\n",
       "      <td>0.0</td>\n",
       "      <td>...</td>\n",
       "      <td>0.0</td>\n",
       "      <td>0.0</td>\n",
       "      <td>0.0</td>\n",
       "      <td>0.0</td>\n",
       "      <td>0.0</td>\n",
       "      <td>0.0</td>\n",
       "      <td>0.0</td>\n",
       "      <td>0.0</td>\n",
       "      <td>0.0</td>\n",
       "      <td>0.0</td>\n",
       "    </tr>\n",
       "    <tr>\n",
       "      <th>3</th>\n",
       "      <td>3.500000</td>\n",
       "      <td>-1.0</td>\n",
       "      <td>-0.306033</td>\n",
       "      <td>0.708333</td>\n",
       "      <td>1.083333</td>\n",
       "      <td>0.0</td>\n",
       "      <td>0.0</td>\n",
       "      <td>0.0</td>\n",
       "      <td>0.0</td>\n",
       "      <td>0.0</td>\n",
       "      <td>...</td>\n",
       "      <td>0.0</td>\n",
       "      <td>0.0</td>\n",
       "      <td>0.0</td>\n",
       "      <td>0.0</td>\n",
       "      <td>0.0</td>\n",
       "      <td>0.0</td>\n",
       "      <td>0.0</td>\n",
       "      <td>0.0</td>\n",
       "      <td>0.0</td>\n",
       "      <td>0.0</td>\n",
       "    </tr>\n",
       "    <tr>\n",
       "      <th>4</th>\n",
       "      <td>-0.333333</td>\n",
       "      <td>-1.0</td>\n",
       "      <td>0.093684</td>\n",
       "      <td>-0.541667</td>\n",
       "      <td>0.083333</td>\n",
       "      <td>0.0</td>\n",
       "      <td>0.0</td>\n",
       "      <td>0.0</td>\n",
       "      <td>0.0</td>\n",
       "      <td>0.0</td>\n",
       "      <td>...</td>\n",
       "      <td>0.0</td>\n",
       "      <td>0.0</td>\n",
       "      <td>0.0</td>\n",
       "      <td>0.0</td>\n",
       "      <td>0.0</td>\n",
       "      <td>0.0</td>\n",
       "      <td>0.0</td>\n",
       "      <td>0.0</td>\n",
       "      <td>0.0</td>\n",
       "      <td>0.0</td>\n",
       "    </tr>\n",
       "    <tr>\n",
       "      <th>...</th>\n",
       "      <td>...</td>\n",
       "      <td>...</td>\n",
       "      <td>...</td>\n",
       "      <td>...</td>\n",
       "      <td>...</td>\n",
       "      <td>...</td>\n",
       "      <td>...</td>\n",
       "      <td>...</td>\n",
       "      <td>...</td>\n",
       "      <td>...</td>\n",
       "      <td>...</td>\n",
       "      <td>...</td>\n",
       "      <td>...</td>\n",
       "      <td>...</td>\n",
       "      <td>...</td>\n",
       "      <td>...</td>\n",
       "      <td>...</td>\n",
       "      <td>...</td>\n",
       "      <td>...</td>\n",
       "      <td>...</td>\n",
       "      <td>...</td>\n",
       "    </tr>\n",
       "    <tr>\n",
       "      <th>6458</th>\n",
       "      <td>-0.333333</td>\n",
       "      <td>0.0</td>\n",
       "      <td>0.968065</td>\n",
       "      <td>0.541667</td>\n",
       "      <td>-0.250000</td>\n",
       "      <td>0.0</td>\n",
       "      <td>0.0</td>\n",
       "      <td>0.0</td>\n",
       "      <td>0.0</td>\n",
       "      <td>0.0</td>\n",
       "      <td>...</td>\n",
       "      <td>0.0</td>\n",
       "      <td>0.0</td>\n",
       "      <td>0.0</td>\n",
       "      <td>0.0</td>\n",
       "      <td>1.0</td>\n",
       "      <td>0.0</td>\n",
       "      <td>0.0</td>\n",
       "      <td>0.0</td>\n",
       "      <td>0.0</td>\n",
       "      <td>0.0</td>\n",
       "    </tr>\n",
       "    <tr>\n",
       "      <th>6459</th>\n",
       "      <td>-0.333333</td>\n",
       "      <td>0.0</td>\n",
       "      <td>0.249823</td>\n",
       "      <td>-0.416667</td>\n",
       "      <td>-0.416667</td>\n",
       "      <td>1.0</td>\n",
       "      <td>0.0</td>\n",
       "      <td>0.0</td>\n",
       "      <td>0.0</td>\n",
       "      <td>0.0</td>\n",
       "      <td>...</td>\n",
       "      <td>0.0</td>\n",
       "      <td>0.0</td>\n",
       "      <td>0.0</td>\n",
       "      <td>0.0</td>\n",
       "      <td>0.0</td>\n",
       "      <td>0.0</td>\n",
       "      <td>0.0</td>\n",
       "      <td>0.0</td>\n",
       "      <td>0.0</td>\n",
       "      <td>0.0</td>\n",
       "    </tr>\n",
       "    <tr>\n",
       "      <th>6460</th>\n",
       "      <td>0.166667</td>\n",
       "      <td>0.0</td>\n",
       "      <td>0.156139</td>\n",
       "      <td>1.000000</td>\n",
       "      <td>0.750000</td>\n",
       "      <td>0.0</td>\n",
       "      <td>0.0</td>\n",
       "      <td>0.0</td>\n",
       "      <td>0.0</td>\n",
       "      <td>0.0</td>\n",
       "      <td>...</td>\n",
       "      <td>0.0</td>\n",
       "      <td>0.0</td>\n",
       "      <td>0.0</td>\n",
       "      <td>0.0</td>\n",
       "      <td>0.0</td>\n",
       "      <td>0.0</td>\n",
       "      <td>0.0</td>\n",
       "      <td>0.0</td>\n",
       "      <td>0.0</td>\n",
       "      <td>0.0</td>\n",
       "    </tr>\n",
       "    <tr>\n",
       "      <th>6461</th>\n",
       "      <td>3.833333</td>\n",
       "      <td>-1.0</td>\n",
       "      <td>-0.281051</td>\n",
       "      <td>-0.208333</td>\n",
       "      <td>3.166667</td>\n",
       "      <td>0.0</td>\n",
       "      <td>0.0</td>\n",
       "      <td>0.0</td>\n",
       "      <td>0.0</td>\n",
       "      <td>0.0</td>\n",
       "      <td>...</td>\n",
       "      <td>0.0</td>\n",
       "      <td>0.0</td>\n",
       "      <td>0.0</td>\n",
       "      <td>0.0</td>\n",
       "      <td>0.0</td>\n",
       "      <td>0.0</td>\n",
       "      <td>0.0</td>\n",
       "      <td>0.0</td>\n",
       "      <td>0.0</td>\n",
       "      <td>0.0</td>\n",
       "    </tr>\n",
       "    <tr>\n",
       "      <th>6462</th>\n",
       "      <td>0.166667</td>\n",
       "      <td>-1.0</td>\n",
       "      <td>-0.341508</td>\n",
       "      <td>-0.833333</td>\n",
       "      <td>-0.333333</td>\n",
       "      <td>0.0</td>\n",
       "      <td>0.0</td>\n",
       "      <td>0.0</td>\n",
       "      <td>0.0</td>\n",
       "      <td>0.0</td>\n",
       "      <td>...</td>\n",
       "      <td>0.0</td>\n",
       "      <td>0.0</td>\n",
       "      <td>0.0</td>\n",
       "      <td>0.0</td>\n",
       "      <td>0.0</td>\n",
       "      <td>0.0</td>\n",
       "      <td>0.0</td>\n",
       "      <td>0.0</td>\n",
       "      <td>0.0</td>\n",
       "      <td>0.0</td>\n",
       "    </tr>\n",
       "  </tbody>\n",
       "</table>\n",
       "<p>6463 rows × 1118 columns</p>\n",
       "</div>"
      ],
      "text/plain": [
       "           0     1         2         3          4     5     6     7     8     \\\n",
       "0     -0.333333   2.0  0.093684 -0.500000  -0.250000   1.0   0.0   0.0   0.0   \n",
       "1     -0.166667   0.0  0.905609  0.333333  -0.250000   1.0   0.0   0.0   0.0   \n",
       "2     15.833333  -1.0 -0.240455  0.000000  11.666667   0.0   0.0   0.0   0.0   \n",
       "3      3.500000  -1.0 -0.306033  0.708333   1.083333   0.0   0.0   0.0   0.0   \n",
       "4     -0.333333  -1.0  0.093684 -0.541667   0.083333   0.0   0.0   0.0   0.0   \n",
       "...         ...   ...       ...       ...        ...   ...   ...   ...   ...   \n",
       "6458  -0.333333   0.0  0.968065  0.541667  -0.250000   0.0   0.0   0.0   0.0   \n",
       "6459  -0.333333   0.0  0.249823 -0.416667  -0.416667   1.0   0.0   0.0   0.0   \n",
       "6460   0.166667   0.0  0.156139  1.000000   0.750000   0.0   0.0   0.0   0.0   \n",
       "6461   3.833333  -1.0 -0.281051 -0.208333   3.166667   0.0   0.0   0.0   0.0   \n",
       "6462   0.166667  -1.0 -0.341508 -0.833333  -0.333333   0.0   0.0   0.0   0.0   \n",
       "\n",
       "      9     ...  1108  1109  1110  1111  1112  1113  1114  1115  1116  1117  \n",
       "0      0.0  ...   0.0   0.0   0.0   0.0   0.0   0.0   0.0   0.0   0.0   0.0  \n",
       "1      0.0  ...   0.0   0.0   0.0   0.0   0.0   0.0   0.0   0.0   0.0   0.0  \n",
       "2      0.0  ...   0.0   0.0   0.0   0.0   0.0   0.0   0.0   0.0   0.0   0.0  \n",
       "3      0.0  ...   0.0   0.0   0.0   0.0   0.0   0.0   0.0   0.0   0.0   0.0  \n",
       "4      0.0  ...   0.0   0.0   0.0   0.0   0.0   0.0   0.0   0.0   0.0   0.0  \n",
       "...    ...  ...   ...   ...   ...   ...   ...   ...   ...   ...   ...   ...  \n",
       "6458   0.0  ...   0.0   0.0   0.0   0.0   1.0   0.0   0.0   0.0   0.0   0.0  \n",
       "6459   0.0  ...   0.0   0.0   0.0   0.0   0.0   0.0   0.0   0.0   0.0   0.0  \n",
       "6460   0.0  ...   0.0   0.0   0.0   0.0   0.0   0.0   0.0   0.0   0.0   0.0  \n",
       "6461   0.0  ...   0.0   0.0   0.0   0.0   0.0   0.0   0.0   0.0   0.0   0.0  \n",
       "6462   0.0  ...   0.0   0.0   0.0   0.0   0.0   0.0   0.0   0.0   0.0   0.0  \n",
       "\n",
       "[6463 rows x 1118 columns]"
      ]
     },
     "execution_count": 20,
     "metadata": {},
     "output_type": "execute_result"
    }
   ],
   "source": [
    "X_basic_preprocessing=pd.DataFrame.sparse.from_spmatrix(basic_preprocessing.fit_transform(X, y))\n",
    "X_basic_preprocessing"
   ]
  },
  {
   "cell_type": "markdown",
   "metadata": {},
   "source": [
    "**❓ How many features has been generated by the preprocessing? What do you think about this number?**"
   ]
  },
  {
   "cell_type": "markdown",
   "metadata": {
    "tags": [
     "challengify"
    ]
   },
   "source": [
    "> There are 1118 features generated by the preprocessing\n",
    "> <br>For uncorrelated features, the optimal feature size is N−1 (where N is sample size)\n",
    "> <br>As feature correlation increases, and the optimal feature size becomes proportional to \\begin{equation}\\sqrt{N}\\end{equation} for highly correlated features.\n",
    "> <br>Here, in my opinion there are too much feature as some feature are a bit correlated."
   ]
  },
  {
   "cell_type": "code",
   "execution_count": 21,
   "metadata": {},
   "outputs": [
    {
     "data": {
      "text/plain": [
       "80.37412518964048"
      ]
     },
     "execution_count": 21,
     "metadata": {},
     "output_type": "execute_result"
    }
   ],
   "source": [
    "6460**0.5"
   ]
  },
  {
   "cell_type": "markdown",
   "metadata": {},
   "source": [
    "#### Modeling pipeline\n",
    "\n",
    "Let's add a model to our pipe. With so many features one-hot-encoded, we **need a model which can act as a feature selector**\n",
    "\n",
    "👉 A linear model regularized with L1 penalty is a good starting point.\n",
    "\n",
    "\n",
    "**📝 Create a `basic_pipeline` which encapsulate the `basic_preprocessing` pipeline + a linear model with a L1 penalty**\n",
    "\n",
    "- store the resulting pipeline as `basic_pipeline`\n",
    "- don't fine-tune it\n",
    "\n",
    "\n",
    "<details>\n",
    "    <summary>Hints</summary>\n",
    "\n",
    "Choose your model from the list [here](https://scikit-learn.org/stable/modules/classes.html#module-sklearn.linear_model)\n",
    "\n",
    "</details>"
   ]
  },
  {
   "cell_type": "code",
   "execution_count": 22,
   "metadata": {},
   "outputs": [],
   "source": [
    "from sklearn.linear_model import Lasso"
   ]
  },
  {
   "cell_type": "code",
   "execution_count": 27,
   "metadata": {
    "ExecuteTime": {
     "end_time": "2021-06-29T17:29:13.614429Z",
     "start_time": "2021-06-29T17:29:13.609607Z"
    },
    "tags": [
     "challengify"
    ]
   },
   "outputs": [
    {
     "data": {
      "text/html": [
       "<style>#sk-386dea46-cb4b-4da3-bd4c-89919ff384b6 {color: black;background-color: white;}#sk-386dea46-cb4b-4da3-bd4c-89919ff384b6 pre{padding: 0;}#sk-386dea46-cb4b-4da3-bd4c-89919ff384b6 div.sk-toggleable {background-color: white;}#sk-386dea46-cb4b-4da3-bd4c-89919ff384b6 label.sk-toggleable__label {cursor: pointer;display: block;width: 100%;margin-bottom: 0;padding: 0.2em 0.3em;box-sizing: border-box;text-align: center;}#sk-386dea46-cb4b-4da3-bd4c-89919ff384b6 div.sk-toggleable__content {max-height: 0;max-width: 0;overflow: hidden;text-align: left;background-color: #f0f8ff;}#sk-386dea46-cb4b-4da3-bd4c-89919ff384b6 div.sk-toggleable__content pre {margin: 0.2em;color: black;border-radius: 0.25em;background-color: #f0f8ff;}#sk-386dea46-cb4b-4da3-bd4c-89919ff384b6 input.sk-toggleable__control:checked~div.sk-toggleable__content {max-height: 200px;max-width: 100%;overflow: auto;}#sk-386dea46-cb4b-4da3-bd4c-89919ff384b6 div.sk-estimator input.sk-toggleable__control:checked~label.sk-toggleable__label {background-color: #d4ebff;}#sk-386dea46-cb4b-4da3-bd4c-89919ff384b6 div.sk-label input.sk-toggleable__control:checked~label.sk-toggleable__label {background-color: #d4ebff;}#sk-386dea46-cb4b-4da3-bd4c-89919ff384b6 input.sk-hidden--visually {border: 0;clip: rect(1px 1px 1px 1px);clip: rect(1px, 1px, 1px, 1px);height: 1px;margin: -1px;overflow: hidden;padding: 0;position: absolute;width: 1px;}#sk-386dea46-cb4b-4da3-bd4c-89919ff384b6 div.sk-estimator {font-family: monospace;background-color: #f0f8ff;margin: 0.25em 0.25em;border: 1px dotted black;border-radius: 0.25em;box-sizing: border-box;}#sk-386dea46-cb4b-4da3-bd4c-89919ff384b6 div.sk-estimator:hover {background-color: #d4ebff;}#sk-386dea46-cb4b-4da3-bd4c-89919ff384b6 div.sk-parallel-item::after {content: \"\";width: 100%;border-bottom: 1px solid gray;flex-grow: 1;}#sk-386dea46-cb4b-4da3-bd4c-89919ff384b6 div.sk-label:hover label.sk-toggleable__label {background-color: #d4ebff;}#sk-386dea46-cb4b-4da3-bd4c-89919ff384b6 div.sk-serial::before {content: \"\";position: absolute;border-left: 1px solid gray;box-sizing: border-box;top: 2em;bottom: 0;left: 50%;}#sk-386dea46-cb4b-4da3-bd4c-89919ff384b6 div.sk-serial {display: flex;flex-direction: column;align-items: center;background-color: white;}#sk-386dea46-cb4b-4da3-bd4c-89919ff384b6 div.sk-item {z-index: 1;}#sk-386dea46-cb4b-4da3-bd4c-89919ff384b6 div.sk-parallel {display: flex;align-items: stretch;justify-content: center;background-color: white;}#sk-386dea46-cb4b-4da3-bd4c-89919ff384b6 div.sk-parallel-item {display: flex;flex-direction: column;position: relative;background-color: white;}#sk-386dea46-cb4b-4da3-bd4c-89919ff384b6 div.sk-parallel-item:first-child::after {align-self: flex-end;width: 50%;}#sk-386dea46-cb4b-4da3-bd4c-89919ff384b6 div.sk-parallel-item:last-child::after {align-self: flex-start;width: 50%;}#sk-386dea46-cb4b-4da3-bd4c-89919ff384b6 div.sk-parallel-item:only-child::after {width: 0;}#sk-386dea46-cb4b-4da3-bd4c-89919ff384b6 div.sk-dashed-wrapped {border: 1px dashed gray;margin: 0.2em;box-sizing: border-box;padding-bottom: 0.1em;background-color: white;position: relative;}#sk-386dea46-cb4b-4da3-bd4c-89919ff384b6 div.sk-label label {font-family: monospace;font-weight: bold;background-color: white;display: inline-block;line-height: 1.2em;}#sk-386dea46-cb4b-4da3-bd4c-89919ff384b6 div.sk-label-container {position: relative;z-index: 2;text-align: center;}#sk-386dea46-cb4b-4da3-bd4c-89919ff384b6 div.sk-container {display: inline-block;position: relative;}</style><div id=\"sk-386dea46-cb4b-4da3-bd4c-89919ff384b6\" class\"sk-top-container\"><div class=\"sk-container\"><div class=\"sk-item sk-dashed-wrapped\"><div class=\"sk-label-container\"><div class=\"sk-label sk-toggleable\"><input class=\"sk-toggleable__control sk-hidden--visually\" id=\"8d98ea7f-d812-4fb4-89f4-d89b7ca07ff8\" type=\"checkbox\" ><label class=\"sk-toggleable__label\" for=\"8d98ea7f-d812-4fb4-89f4-d89b7ca07ff8\">Pipeline</label><div class=\"sk-toggleable__content\"><pre>Pipeline(steps=[('preproc',\n",
       "                 ColumnTransformer(transformers=[('num_transformer',\n",
       "                                                  RobustScaler(),\n",
       "                                                  ['number_of_awards_won',\n",
       "                                                   'number_of_top_productions',\n",
       "                                                   'budget', 'duration_min',\n",
       "                                                   'number_of_nominations',\n",
       "                                                   'has_collection']),\n",
       "                                                 ('cat_transformer',\n",
       "                                                  OneHotEncoder(handle_unknown='ignore'),\n",
       "                                                  ['top_countries',\n",
       "                                                   'available_in_english',\n",
       "                                                   'original_language',\n",
       "                                                   'status', 'all_genres'])])),\n",
       "                ('lasso', Lasso())])</pre></div></div></div><div class=\"sk-serial\"><div class=\"sk-item sk-dashed-wrapped\"><div class=\"sk-label-container\"><div class=\"sk-label sk-toggleable\"><input class=\"sk-toggleable__control sk-hidden--visually\" id=\"5ffc1875-13c8-427e-a229-c241605accd6\" type=\"checkbox\" ><label class=\"sk-toggleable__label\" for=\"5ffc1875-13c8-427e-a229-c241605accd6\">preproc: ColumnTransformer</label><div class=\"sk-toggleable__content\"><pre>ColumnTransformer(transformers=[('num_transformer', RobustScaler(),\n",
       "                                 ['number_of_awards_won',\n",
       "                                  'number_of_top_productions', 'budget',\n",
       "                                  'duration_min', 'number_of_nominations',\n",
       "                                  'has_collection']),\n",
       "                                ('cat_transformer',\n",
       "                                 OneHotEncoder(handle_unknown='ignore'),\n",
       "                                 ['top_countries', 'available_in_english',\n",
       "                                  'original_language', 'status',\n",
       "                                  'all_genres'])])</pre></div></div></div><div class=\"sk-parallel\"><div class=\"sk-parallel-item\"><div class=\"sk-item\"><div class=\"sk-label-container\"><div class=\"sk-label sk-toggleable\"><input class=\"sk-toggleable__control sk-hidden--visually\" id=\"c2181e40-0c9f-4485-b58a-b31ece169b1a\" type=\"checkbox\" ><label class=\"sk-toggleable__label\" for=\"c2181e40-0c9f-4485-b58a-b31ece169b1a\">num_transformer</label><div class=\"sk-toggleable__content\"><pre>['number_of_awards_won', 'number_of_top_productions', 'budget', 'duration_min', 'number_of_nominations', 'has_collection']</pre></div></div></div><div class=\"sk-serial\"><div class=\"sk-item\"><div class=\"sk-estimator sk-toggleable\"><input class=\"sk-toggleable__control sk-hidden--visually\" id=\"fdd22601-0602-4b2c-83cb-528048f08563\" type=\"checkbox\" ><label class=\"sk-toggleable__label\" for=\"fdd22601-0602-4b2c-83cb-528048f08563\">RobustScaler</label><div class=\"sk-toggleable__content\"><pre>RobustScaler()</pre></div></div></div></div></div></div><div class=\"sk-parallel-item\"><div class=\"sk-item\"><div class=\"sk-label-container\"><div class=\"sk-label sk-toggleable\"><input class=\"sk-toggleable__control sk-hidden--visually\" id=\"799b0bf9-65f3-4e44-bd36-18e32c5cb0e5\" type=\"checkbox\" ><label class=\"sk-toggleable__label\" for=\"799b0bf9-65f3-4e44-bd36-18e32c5cb0e5\">cat_transformer</label><div class=\"sk-toggleable__content\"><pre>['top_countries', 'available_in_english', 'original_language', 'status', 'all_genres']</pre></div></div></div><div class=\"sk-serial\"><div class=\"sk-item\"><div class=\"sk-estimator sk-toggleable\"><input class=\"sk-toggleable__control sk-hidden--visually\" id=\"b4607d07-a24a-4365-944c-89d3a2c74834\" type=\"checkbox\" ><label class=\"sk-toggleable__label\" for=\"b4607d07-a24a-4365-944c-89d3a2c74834\">OneHotEncoder</label><div class=\"sk-toggleable__content\"><pre>OneHotEncoder(handle_unknown='ignore')</pre></div></div></div></div></div></div></div></div><div class=\"sk-item\"><div class=\"sk-estimator sk-toggleable\"><input class=\"sk-toggleable__control sk-hidden--visually\" id=\"c2657cb7-e0ec-4c17-9fdd-298de2368c15\" type=\"checkbox\" ><label class=\"sk-toggleable__label\" for=\"c2657cb7-e0ec-4c17-9fdd-298de2368c15\">Lasso</label><div class=\"sk-toggleable__content\"><pre>Lasso()</pre></div></div></div></div></div></div></div>"
      ],
      "text/plain": [
       "Pipeline(steps=[('preproc',\n",
       "                 ColumnTransformer(transformers=[('num_transformer',\n",
       "                                                  RobustScaler(),\n",
       "                                                  ['number_of_awards_won',\n",
       "                                                   'number_of_top_productions',\n",
       "                                                   'budget', 'duration_min',\n",
       "                                                   'number_of_nominations',\n",
       "                                                   'has_collection']),\n",
       "                                                 ('cat_transformer',\n",
       "                                                  OneHotEncoder(handle_unknown='ignore'),\n",
       "                                                  ['top_countries',\n",
       "                                                   'available_in_english',\n",
       "                                                   'original_language',\n",
       "                                                   'status', 'all_genres'])])),\n",
       "                ('lasso', Lasso())])"
      ]
     },
     "execution_count": 27,
     "metadata": {},
     "output_type": "execute_result"
    }
   ],
   "source": [
    "basic_pipeline = Pipeline([\n",
    "    ('preproc', basic_preprocessing),\n",
    "    ('lasso', Lasso())])\n",
    "basic_pipeline"
   ]
  },
  {
   "cell_type": "markdown",
   "metadata": {},
   "source": [
    "### Cross-validated baseline\n",
    "\n",
    "**📝 Perform a cross-validated evaluation of your baseline model using the metric you defined above. Store the results of this evaluation as an `array` of floating scores in the `basic_scores` variable.**"
   ]
  },
  {
   "cell_type": "code",
   "execution_count": 28,
   "metadata": {
    "ExecuteTime": {
     "end_time": "2021-06-29T17:29:13.834847Z",
     "start_time": "2021-06-29T17:29:13.634994Z"
    },
    "scrolled": false,
    "tags": [
     "challengify"
    ]
   },
   "outputs": [
    {
     "data": {
      "text/plain": [
       "array([-0.30110915, -0.32163859, -0.31165011, -0.30197788, -0.33228623])"
      ]
     },
     "execution_count": 28,
     "metadata": {},
     "output_type": "execute_result"
    }
   ],
   "source": [
    "from sklearn.model_selection import cross_val_score\n",
    "\n",
    "basic_scores=cross_val_score(basic_pipeline, X, y, cv=5, scoring=scoring)\n",
    "basic_scores"
   ]
  },
  {
   "cell_type": "markdown",
   "metadata": {},
   "source": [
    "### 🧪 Save your results\n",
    "\n",
    "Run the following cell to save your results"
   ]
  },
  {
   "cell_type": "code",
   "execution_count": 29,
   "metadata": {
    "ExecuteTime": {
     "end_time": "2021-06-29T17:29:13.848670Z",
     "start_time": "2021-06-29T17:29:13.844198Z"
    }
   },
   "outputs": [],
   "source": [
    "ChallengeResult(\n",
    "    'baseline',\n",
    "    metric=scoring,\n",
    "    features=[categorical,numerical],\n",
    "    preproc=basic_preprocessing,\n",
    "    preproc_shape=X_basic_preprocessing.shape,\n",
    "    pipe=basic_pipeline,\n",
    "    scores=basic_scores\n",
    ").write()"
   ]
  },
  {
   "cell_type": "markdown",
   "metadata": {},
   "source": [
    "## Feature engineering"
   ]
  },
  {
   "cell_type": "markdown",
   "metadata": {},
   "source": [
    "### Time Features\n",
    "\n",
    "\n",
    "👉 Let's try to improve performance using the feature `release_date`, and especially its `month` and `year`.\n",
    "\n",
    "ℹ️ If you want to skip this section, you can move directly to the next one: _Advanced categorical features_."
   ]
  },
  {
   "cell_type": "markdown",
   "metadata": {},
   "source": [
    "**📝 Complete the custom transformer `TimeFeaturesExtractor` below**\n",
    "\n",
    "Running\n",
    "```python\n",
    "TimeFeaturesExtractor().fit_transform(X[['release_date']])\n",
    "``` \n",
    "should return something like\n",
    "\n",
    "|    |   month |   year |\n",
    "|---:|--------:|-------:|\n",
    "|  0 |       2 |   2015 |\n",
    "|  1 |       8 |   2004 |\n",
    "|  2 |      10 |   2014 |\n",
    "|  3 |       3 |   2012 |\n",
    "|  4 |       8 |   2012 |\n"
   ]
  },
  {
   "cell_type": "code",
   "execution_count": 50,
   "metadata": {
    "ExecuteTime": {
     "end_time": "2021-06-29T17:29:13.859554Z",
     "start_time": "2021-06-29T17:29:13.855428Z"
    }
   },
   "outputs": [],
   "source": [
    "from sklearn.base import BaseEstimator, TransformerMixin\n",
    "\n",
    "class TimeFeaturesExtractor(BaseEstimator, TransformerMixin):\n",
    "    \"\"\"Extract the 2 time features from a date\"\"\"\n",
    "    \n",
    "    def fit(self, X, y=None):\n",
    "        return self\n",
    "    \n",
    "    def transform(self, X, y=None):\n",
    "        \"\"\"\n",
    "        Params:\n",
    "        X: DataFrame\n",
    "        y: Series\n",
    "        \n",
    "        Returns a DataFrame with 2 columns containing the time features as integers extracted from the release_date.\n",
    "        \"\"\"\n",
    "        X_new = X.copy()\n",
    "        date = pd.to_datetime(X_new['release_date'], format='%Y-%m-%d')\n",
    "        X_new['month'] = date.dt.month\n",
    "        X_new['year'] = date.dt.year\n",
    "        return X_new[['month','year']]"
   ]
  },
  {
   "cell_type": "code",
   "execution_count": 51,
   "metadata": {
    "ExecuteTime": {
     "end_time": "2021-06-29T17:29:13.877264Z",
     "start_time": "2021-06-29T17:29:13.862231Z"
    }
   },
   "outputs": [
    {
     "data": {
      "text/html": [
       "<div>\n",
       "<style scoped>\n",
       "    .dataframe tbody tr th:only-of-type {\n",
       "        vertical-align: middle;\n",
       "    }\n",
       "\n",
       "    .dataframe tbody tr th {\n",
       "        vertical-align: top;\n",
       "    }\n",
       "\n",
       "    .dataframe thead th {\n",
       "        text-align: right;\n",
       "    }\n",
       "</style>\n",
       "<table border=\"1\" class=\"dataframe\">\n",
       "  <thead>\n",
       "    <tr style=\"text-align: right;\">\n",
       "      <th></th>\n",
       "      <th>month</th>\n",
       "      <th>year</th>\n",
       "    </tr>\n",
       "  </thead>\n",
       "  <tbody>\n",
       "    <tr>\n",
       "      <th>0</th>\n",
       "      <td>2</td>\n",
       "      <td>2015</td>\n",
       "    </tr>\n",
       "    <tr>\n",
       "      <th>1</th>\n",
       "      <td>8</td>\n",
       "      <td>2004</td>\n",
       "    </tr>\n",
       "    <tr>\n",
       "      <th>2</th>\n",
       "      <td>10</td>\n",
       "      <td>2014</td>\n",
       "    </tr>\n",
       "    <tr>\n",
       "      <th>3</th>\n",
       "      <td>3</td>\n",
       "      <td>2012</td>\n",
       "    </tr>\n",
       "    <tr>\n",
       "      <th>4</th>\n",
       "      <td>8</td>\n",
       "      <td>2012</td>\n",
       "    </tr>\n",
       "  </tbody>\n",
       "</table>\n",
       "</div>"
      ],
      "text/plain": [
       "   month  year\n",
       "0      2  2015\n",
       "1      8  2004\n",
       "2     10  2014\n",
       "3      3  2012\n",
       "4      8  2012"
      ]
     },
     "execution_count": 51,
     "metadata": {},
     "output_type": "execute_result"
    }
   ],
   "source": [
    "# Try your transformer and save your new features here\n",
    "X_time_features = TimeFeaturesExtractor().fit_transform(X[['release_date']])\n",
    "X_time_features.head()"
   ]
  },
  {
   "cell_type": "markdown",
   "metadata": {},
   "source": [
    "We still have 2 problems to solve\n",
    "- `month` is cyclical: 12 should be a close to 1 as to 11, right? \n",
    "- `year` is not scaled\n",
    "\n",
    "**📝 Build a final custom transformer `CyclicalEncoder` so that**\n",
    "\n",
    "Running\n",
    "```python\n",
    "CyclicalEncoder().fit_transform(X_time_features)\n",
    "``` \n",
    "should return something like this\n",
    "\n",
    "|    |    month_cos |   month_sin |      year |\n",
    "|---:|-------------:|------------:|----------:|\n",
    "|  0 |  0.5         |    0.866025 | 0.0466039 |\n",
    "|  1 | -0.5         |   -0.866025 | 0.0411502 |\n",
    "|  2 |  0.5         |   -0.866025 | 0.0461081 |\n",
    "|  3 |  6.12323e-17 |    1        | 0.0451165 |\n",
    "|  4 | -0.5         |   -0.866025 | 0.0451165 |\n",
    "\n",
    "With the cyclical encoding is done as below\n",
    "- `month_cos = 2 * math.pi / 12 * X[['month']] `\n",
    "- `month_sin = 2 * math.pi / 12 * X[['month']] `\n",
    "\n",
    "And the `year` begin min-max scaled"
   ]
  },
  {
   "cell_type": "code",
   "execution_count": 52,
   "metadata": {},
   "outputs": [],
   "source": [
    "import math"
   ]
  },
  {
   "cell_type": "code",
   "execution_count": 53,
   "metadata": {
    "ExecuteTime": {
     "end_time": "2021-06-29T17:29:13.884690Z",
     "start_time": "2021-06-29T17:29:13.879274Z"
    }
   },
   "outputs": [],
   "source": [
    "from sklearn.base import BaseEstimator, TransformerMixin\n",
    "import math\n",
    "\n",
    "class CyclicalEncoder(BaseEstimator, TransformerMixin):\n",
    "    \"\"\"\n",
    "    Encode a cyclical feature\n",
    "    \"\"\"\n",
    "    \n",
    "    def __init__(self):\n",
    "        pass\n",
    "\n",
    "    def fit(self, X, y=None):\n",
    "        \"\"\"\n",
    "        Compute here what you need for the transform phase and store it as instance variable\n",
    "        \"\"\"\n",
    "        self._year = X['year']\n",
    "        return self\n",
    "\n",
    "    def transform(self, X, y=None):\n",
    "        \"\"\"\n",
    "        Compute and returns the final DataFrame\n",
    "        \"\"\"\n",
    "        X_new = X.copy()\n",
    "        X_new['month_cos'] = np.cos(2 * math.pi / 12 * X_new['month'])\n",
    "        X_new['month_sin'] = np.sin(2 * math.pi / 12 * X_new['month'])\n",
    "        \n",
    "        ymin = self._year.min()\n",
    "        ymax = self._year.max()\n",
    "        X_new['year_scale'] = self._year.map(lambda x : (x-ymin)/(ymax-ymin))\n",
    "        \n",
    "        return X_new[['month_cos','month_sin','year_scale']]"
   ]
  },
  {
   "cell_type": "code",
   "execution_count": 54,
   "metadata": {
    "ExecuteTime": {
     "end_time": "2021-06-29T17:29:13.899004Z",
     "start_time": "2021-06-29T17:29:13.886894Z"
    }
   },
   "outputs": [
    {
     "data": {
      "text/html": [
       "<div>\n",
       "<style scoped>\n",
       "    .dataframe tbody tr th:only-of-type {\n",
       "        vertical-align: middle;\n",
       "    }\n",
       "\n",
       "    .dataframe tbody tr th {\n",
       "        vertical-align: top;\n",
       "    }\n",
       "\n",
       "    .dataframe thead th {\n",
       "        text-align: right;\n",
       "    }\n",
       "</style>\n",
       "<table border=\"1\" class=\"dataframe\">\n",
       "  <thead>\n",
       "    <tr style=\"text-align: right;\">\n",
       "      <th></th>\n",
       "      <th>month_cos</th>\n",
       "      <th>month_sin</th>\n",
       "      <th>year_scale</th>\n",
       "    </tr>\n",
       "  </thead>\n",
       "  <tbody>\n",
       "    <tr>\n",
       "      <th>0</th>\n",
       "      <td>5.000000e-01</td>\n",
       "      <td>0.866025</td>\n",
       "      <td>0.979167</td>\n",
       "    </tr>\n",
       "    <tr>\n",
       "      <th>1</th>\n",
       "      <td>-5.000000e-01</td>\n",
       "      <td>-0.866025</td>\n",
       "      <td>0.864583</td>\n",
       "    </tr>\n",
       "    <tr>\n",
       "      <th>2</th>\n",
       "      <td>5.000000e-01</td>\n",
       "      <td>-0.866025</td>\n",
       "      <td>0.968750</td>\n",
       "    </tr>\n",
       "    <tr>\n",
       "      <th>3</th>\n",
       "      <td>6.123234e-17</td>\n",
       "      <td>1.000000</td>\n",
       "      <td>0.947917</td>\n",
       "    </tr>\n",
       "    <tr>\n",
       "      <th>4</th>\n",
       "      <td>-5.000000e-01</td>\n",
       "      <td>-0.866025</td>\n",
       "      <td>0.947917</td>\n",
       "    </tr>\n",
       "  </tbody>\n",
       "</table>\n",
       "</div>"
      ],
      "text/plain": [
       "      month_cos  month_sin  year_scale\n",
       "0  5.000000e-01   0.866025    0.979167\n",
       "1 -5.000000e-01  -0.866025    0.864583\n",
       "2  5.000000e-01  -0.866025    0.968750\n",
       "3  6.123234e-17   1.000000    0.947917\n",
       "4 -5.000000e-01  -0.866025    0.947917"
      ]
     },
     "execution_count": 54,
     "metadata": {},
     "output_type": "execute_result"
    }
   ],
   "source": [
    "# Try your transformer and save your new features here\n",
    "X_time_cyclical = CyclicalEncoder().fit_transform(X_time_features)\n",
    "X_time_cyclical.head()"
   ]
  },
  {
   "cell_type": "code",
   "execution_count": 55,
   "metadata": {
    "ExecuteTime": {
     "end_time": "2021-06-29T17:29:14.052971Z",
     "start_time": "2021-06-29T17:29:13.900696Z"
    }
   },
   "outputs": [
    {
     "data": {
      "image/png": "[encoded data removed]",
      "text/plain": [
       "<Figure size 432x288 with 1 Axes>"
      ]
     },
     "metadata": {
      "needs_background": "light"
     },
     "output_type": "display_data"
    }
   ],
   "source": [
    "# Check that this form a circle with 12 points\n",
    "plt.scatter(X_time_cyclical['month_cos'],\n",
    "            X_time_cyclical['month_sin'])\n",
    "plt.xlabel(\"month_cos\"); plt.ylabel(\"month_sin\");"
   ]
  },
  {
   "cell_type": "markdown",
   "metadata": {},
   "source": [
    "**📝 Enhance your `basic_pipeline` with a new preprocessing including both `TimeFeaturesExtractor` and `CyclicalFeatureExtractor`:**\n",
    "\n",
    "- Just use `TimeFeatureExtractor` if you haven't had time to do the `Cyclical` one\n",
    "- Store this new pipeline as `time_pipeline`\n",
    "- Keep same estimator for now"
   ]
  },
  {
   "cell_type": "code",
   "execution_count": 56,
   "metadata": {
    "ExecuteTime": {
     "end_time": "2021-06-29T17:29:14.077345Z",
     "start_time": "2021-06-29T17:29:14.054521Z"
    },
    "tags": [
     "challengify"
    ]
   },
   "outputs": [
    {
     "data": {
      "text/html": [
       "<style>#sk-3075d3f0-84d2-45e0-913f-787536a2a236 {color: black;background-color: white;}#sk-3075d3f0-84d2-45e0-913f-787536a2a236 pre{padding: 0;}#sk-3075d3f0-84d2-45e0-913f-787536a2a236 div.sk-toggleable {background-color: white;}#sk-3075d3f0-84d2-45e0-913f-787536a2a236 label.sk-toggleable__label {cursor: pointer;display: block;width: 100%;margin-bottom: 0;padding: 0.2em 0.3em;box-sizing: border-box;text-align: center;}#sk-3075d3f0-84d2-45e0-913f-787536a2a236 div.sk-toggleable__content {max-height: 0;max-width: 0;overflow: hidden;text-align: left;background-color: #f0f8ff;}#sk-3075d3f0-84d2-45e0-913f-787536a2a236 div.sk-toggleable__content pre {margin: 0.2em;color: black;border-radius: 0.25em;background-color: #f0f8ff;}#sk-3075d3f0-84d2-45e0-913f-787536a2a236 input.sk-toggleable__control:checked~div.sk-toggleable__content {max-height: 200px;max-width: 100%;overflow: auto;}#sk-3075d3f0-84d2-45e0-913f-787536a2a236 div.sk-estimator input.sk-toggleable__control:checked~label.sk-toggleable__label {background-color: #d4ebff;}#sk-3075d3f0-84d2-45e0-913f-787536a2a236 div.sk-label input.sk-toggleable__control:checked~label.sk-toggleable__label {background-color: #d4ebff;}#sk-3075d3f0-84d2-45e0-913f-787536a2a236 input.sk-hidden--visually {border: 0;clip: rect(1px 1px 1px 1px);clip: rect(1px, 1px, 1px, 1px);height: 1px;margin: -1px;overflow: hidden;padding: 0;position: absolute;width: 1px;}#sk-3075d3f0-84d2-45e0-913f-787536a2a236 div.sk-estimator {font-family: monospace;background-color: #f0f8ff;margin: 0.25em 0.25em;border: 1px dotted black;border-radius: 0.25em;box-sizing: border-box;}#sk-3075d3f0-84d2-45e0-913f-787536a2a236 div.sk-estimator:hover {background-color: #d4ebff;}#sk-3075d3f0-84d2-45e0-913f-787536a2a236 div.sk-parallel-item::after {content: \"\";width: 100%;border-bottom: 1px solid gray;flex-grow: 1;}#sk-3075d3f0-84d2-45e0-913f-787536a2a236 div.sk-label:hover label.sk-toggleable__label {background-color: #d4ebff;}#sk-3075d3f0-84d2-45e0-913f-787536a2a236 div.sk-serial::before {content: \"\";position: absolute;border-left: 1px solid gray;box-sizing: border-box;top: 2em;bottom: 0;left: 50%;}#sk-3075d3f0-84d2-45e0-913f-787536a2a236 div.sk-serial {display: flex;flex-direction: column;align-items: center;background-color: white;}#sk-3075d3f0-84d2-45e0-913f-787536a2a236 div.sk-item {z-index: 1;}#sk-3075d3f0-84d2-45e0-913f-787536a2a236 div.sk-parallel {display: flex;align-items: stretch;justify-content: center;background-color: white;}#sk-3075d3f0-84d2-45e0-913f-787536a2a236 div.sk-parallel-item {display: flex;flex-direction: column;position: relative;background-color: white;}#sk-3075d3f0-84d2-45e0-913f-787536a2a236 div.sk-parallel-item:first-child::after {align-self: flex-end;width: 50%;}#sk-3075d3f0-84d2-45e0-913f-787536a2a236 div.sk-parallel-item:last-child::after {align-self: flex-start;width: 50%;}#sk-3075d3f0-84d2-45e0-913f-787536a2a236 div.sk-parallel-item:only-child::after {width: 0;}#sk-3075d3f0-84d2-45e0-913f-787536a2a236 div.sk-dashed-wrapped {border: 1px dashed gray;margin: 0.2em;box-sizing: border-box;padding-bottom: 0.1em;background-color: white;position: relative;}#sk-3075d3f0-84d2-45e0-913f-787536a2a236 div.sk-label label {font-family: monospace;font-weight: bold;background-color: white;display: inline-block;line-height: 1.2em;}#sk-3075d3f0-84d2-45e0-913f-787536a2a236 div.sk-label-container {position: relative;z-index: 2;text-align: center;}#sk-3075d3f0-84d2-45e0-913f-787536a2a236 div.sk-container {display: inline-block;position: relative;}</style><div id=\"sk-3075d3f0-84d2-45e0-913f-787536a2a236\" class\"sk-top-container\"><div class=\"sk-container\"><div class=\"sk-item sk-dashed-wrapped\"><div class=\"sk-label-container\"><div class=\"sk-label sk-toggleable\"><input class=\"sk-toggleable__control sk-hidden--visually\" id=\"cf08ea3a-7201-498b-9acd-d9fa2bf94caa\" type=\"checkbox\" ><label class=\"sk-toggleable__label\" for=\"cf08ea3a-7201-498b-9acd-d9fa2bf94caa\">ColumnTransformer</label><div class=\"sk-toggleable__content\"><pre>ColumnTransformer(transformers=[('num_transformer', RobustScaler(),\n",
       "                                 ['number_of_awards_won',\n",
       "                                  'number_of_top_productions', 'budget',\n",
       "                                  'duration_min', 'number_of_nominations',\n",
       "                                  'has_collection']),\n",
       "                                ('cat_transformer',\n",
       "                                 OneHotEncoder(handle_unknown='ignore'),\n",
       "                                 ['top_countries', 'available_in_english',\n",
       "                                  'original_language', 'status',\n",
       "                                  'all_genres']),\n",
       "                                ('time_encoder',\n",
       "                                 Pipeline(steps=[('TimeFeatures',\n",
       "                                                  TimeFeaturesExtractor()),\n",
       "                                                 ('CyclicalFeature',\n",
       "                                                  CyclicalEncoder())]),\n",
       "                                 ['release_date'])])</pre></div></div></div><div class=\"sk-parallel\"><div class=\"sk-parallel-item\"><div class=\"sk-item\"><div class=\"sk-label-container\"><div class=\"sk-label sk-toggleable\"><input class=\"sk-toggleable__control sk-hidden--visually\" id=\"5908dc0e-63c4-40d1-8b4b-ad4d26e67b7b\" type=\"checkbox\" ><label class=\"sk-toggleable__label\" for=\"5908dc0e-63c4-40d1-8b4b-ad4d26e67b7b\">num_transformer</label><div class=\"sk-toggleable__content\"><pre>['number_of_awards_won', 'number_of_top_productions', 'budget', 'duration_min', 'number_of_nominations', 'has_collection']</pre></div></div></div><div class=\"sk-serial\"><div class=\"sk-item\"><div class=\"sk-estimator sk-toggleable\"><input class=\"sk-toggleable__control sk-hidden--visually\" id=\"3bf7d936-bfe2-4eef-adcf-59e4d7782476\" type=\"checkbox\" ><label class=\"sk-toggleable__label\" for=\"3bf7d936-bfe2-4eef-adcf-59e4d7782476\">RobustScaler</label><div class=\"sk-toggleable__content\"><pre>RobustScaler()</pre></div></div></div></div></div></div><div class=\"sk-parallel-item\"><div class=\"sk-item\"><div class=\"sk-label-container\"><div class=\"sk-label sk-toggleable\"><input class=\"sk-toggleable__control sk-hidden--visually\" id=\"fe0eb208-faa2-4bc2-beba-d8f7bafcd705\" type=\"checkbox\" ><label class=\"sk-toggleable__label\" for=\"fe0eb208-faa2-4bc2-beba-d8f7bafcd705\">cat_transformer</label><div class=\"sk-toggleable__content\"><pre>['top_countries', 'available_in_english', 'original_language', 'status', 'all_genres']</pre></div></div></div><div class=\"sk-serial\"><div class=\"sk-item\"><div class=\"sk-estimator sk-toggleable\"><input class=\"sk-toggleable__control sk-hidden--visually\" id=\"00d49b0a-71ff-47dd-924e-e6ca9384c2c8\" type=\"checkbox\" ><label class=\"sk-toggleable__label\" for=\"00d49b0a-71ff-47dd-924e-e6ca9384c2c8\">OneHotEncoder</label><div class=\"sk-toggleable__content\"><pre>OneHotEncoder(handle_unknown='ignore')</pre></div></div></div></div></div></div><div class=\"sk-parallel-item\"><div class=\"sk-item\"><div class=\"sk-label-container\"><div class=\"sk-label sk-toggleable\"><input class=\"sk-toggleable__control sk-hidden--visually\" id=\"1faeb1e6-8513-4695-a243-211a92ec732e\" type=\"checkbox\" ><label class=\"sk-toggleable__label\" for=\"1faeb1e6-8513-4695-a243-211a92ec732e\">time_encoder</label><div class=\"sk-toggleable__content\"><pre>['release_date']</pre></div></div></div><div class=\"sk-serial\"><div class=\"sk-item\"><div class=\"sk-serial\"><div class=\"sk-item\"><div class=\"sk-estimator sk-toggleable\"><input class=\"sk-toggleable__control sk-hidden--visually\" id=\"c54bb66b-4c2f-4de7-b83b-cd60a7abe5d7\" type=\"checkbox\" ><label class=\"sk-toggleable__label\" for=\"c54bb66b-4c2f-4de7-b83b-cd60a7abe5d7\">TimeFeaturesExtractor</label><div class=\"sk-toggleable__content\"><pre>TimeFeaturesExtractor()</pre></div></div></div><div class=\"sk-item\"><div class=\"sk-estimator sk-toggleable\"><input class=\"sk-toggleable__control sk-hidden--visually\" id=\"3c93db3c-3364-4716-b8cd-e5fdd95397f9\" type=\"checkbox\" ><label class=\"sk-toggleable__label\" for=\"3c93db3c-3364-4716-b8cd-e5fdd95397f9\">CyclicalEncoder</label><div class=\"sk-toggleable__content\"><pre>CyclicalEncoder()</pre></div></div></div></div></div></div></div></div></div></div></div></div>"
      ],
      "text/plain": [
       "ColumnTransformer(transformers=[('num_transformer', RobustScaler(),\n",
       "                                 ['number_of_awards_won',\n",
       "                                  'number_of_top_productions', 'budget',\n",
       "                                  'duration_min', 'number_of_nominations',\n",
       "                                  'has_collection']),\n",
       "                                ('cat_transformer',\n",
       "                                 OneHotEncoder(handle_unknown='ignore'),\n",
       "                                 ['top_countries', 'available_in_english',\n",
       "                                  'original_language', 'status',\n",
       "                                  'all_genres']),\n",
       "                                ('time_encoder',\n",
       "                                 Pipeline(steps=[('TimeFeatures',\n",
       "                                                  TimeFeaturesExtractor()),\n",
       "                                                 ('CyclicalFeature',\n",
       "                                                  CyclicalEncoder())]),\n",
       "                                 ['release_date'])])"
      ]
     },
     "execution_count": 56,
     "metadata": {},
     "output_type": "execute_result"
    }
   ],
   "source": [
    "#transformer\n",
    "num_transformer = RobustScaler()\n",
    "cat_transformer = OneHotEncoder(handle_unknown='ignore')\n",
    "time_encoder = Pipeline([('TimeFeatures', TimeFeaturesExtractor()),\n",
    "                            ('CyclicalFeature', CyclicalEncoder())])\n",
    "\n",
    "#preprocessing\n",
    "time_preprocessing = ColumnTransformer([('num_transformer', num_transformer, numerical),\n",
    "                                        ('cat_transformer', cat_transformer, categorical),\n",
    "                                        ('time_encoder', time_encoder, ['release_date'])\n",
    "                                       ])\n",
    "time_preprocessing\n",
    "\n"
   ]
  },
  {
   "cell_type": "code",
   "execution_count": 57,
   "metadata": {},
   "outputs": [
    {
     "data": {
      "text/plain": [
       "(6463, 1121)"
      ]
     },
     "execution_count": 57,
     "metadata": {},
     "output_type": "execute_result"
    }
   ],
   "source": [
    "pd.DataFrame.sparse.from_spmatrix(time_preprocessing.fit_transform(X, y)).shape"
   ]
  },
  {
   "cell_type": "code",
   "execution_count": 58,
   "metadata": {},
   "outputs": [
    {
     "data": {
      "text/html": [
       "<style>#sk-c9badbfe-9c31-4f60-99bf-d5162b039c61 {color: black;background-color: white;}#sk-c9badbfe-9c31-4f60-99bf-d5162b039c61 pre{padding: 0;}#sk-c9badbfe-9c31-4f60-99bf-d5162b039c61 div.sk-toggleable {background-color: white;}#sk-c9badbfe-9c31-4f60-99bf-d5162b039c61 label.sk-toggleable__label {cursor: pointer;display: block;width: 100%;margin-bottom: 0;padding: 0.2em 0.3em;box-sizing: border-box;text-align: center;}#sk-c9badbfe-9c31-4f60-99bf-d5162b039c61 div.sk-toggleable__content {max-height: 0;max-width: 0;overflow: hidden;text-align: left;background-color: #f0f8ff;}#sk-c9badbfe-9c31-4f60-99bf-d5162b039c61 div.sk-toggleable__content pre {margin: 0.2em;color: black;border-radius: 0.25em;background-color: #f0f8ff;}#sk-c9badbfe-9c31-4f60-99bf-d5162b039c61 input.sk-toggleable__control:checked~div.sk-toggleable__content {max-height: 200px;max-width: 100%;overflow: auto;}#sk-c9badbfe-9c31-4f60-99bf-d5162b039c61 div.sk-estimator input.sk-toggleable__control:checked~label.sk-toggleable__label {background-color: #d4ebff;}#sk-c9badbfe-9c31-4f60-99bf-d5162b039c61 div.sk-label input.sk-toggleable__control:checked~label.sk-toggleable__label {background-color: #d4ebff;}#sk-c9badbfe-9c31-4f60-99bf-d5162b039c61 input.sk-hidden--visually {border: 0;clip: rect(1px 1px 1px 1px);clip: rect(1px, 1px, 1px, 1px);height: 1px;margin: -1px;overflow: hidden;padding: 0;position: absolute;width: 1px;}#sk-c9badbfe-9c31-4f60-99bf-d5162b039c61 div.sk-estimator {font-family: monospace;background-color: #f0f8ff;margin: 0.25em 0.25em;border: 1px dotted black;border-radius: 0.25em;box-sizing: border-box;}#sk-c9badbfe-9c31-4f60-99bf-d5162b039c61 div.sk-estimator:hover {background-color: #d4ebff;}#sk-c9badbfe-9c31-4f60-99bf-d5162b039c61 div.sk-parallel-item::after {content: \"\";width: 100%;border-bottom: 1px solid gray;flex-grow: 1;}#sk-c9badbfe-9c31-4f60-99bf-d5162b039c61 div.sk-label:hover label.sk-toggleable__label {background-color: #d4ebff;}#sk-c9badbfe-9c31-4f60-99bf-d5162b039c61 div.sk-serial::before {content: \"\";position: absolute;border-left: 1px solid gray;box-sizing: border-box;top: 2em;bottom: 0;left: 50%;}#sk-c9badbfe-9c31-4f60-99bf-d5162b039c61 div.sk-serial {display: flex;flex-direction: column;align-items: center;background-color: white;}#sk-c9badbfe-9c31-4f60-99bf-d5162b039c61 div.sk-item {z-index: 1;}#sk-c9badbfe-9c31-4f60-99bf-d5162b039c61 div.sk-parallel {display: flex;align-items: stretch;justify-content: center;background-color: white;}#sk-c9badbfe-9c31-4f60-99bf-d5162b039c61 div.sk-parallel-item {display: flex;flex-direction: column;position: relative;background-color: white;}#sk-c9badbfe-9c31-4f60-99bf-d5162b039c61 div.sk-parallel-item:first-child::after {align-self: flex-end;width: 50%;}#sk-c9badbfe-9c31-4f60-99bf-d5162b039c61 div.sk-parallel-item:last-child::after {align-self: flex-start;width: 50%;}#sk-c9badbfe-9c31-4f60-99bf-d5162b039c61 div.sk-parallel-item:only-child::after {width: 0;}#sk-c9badbfe-9c31-4f60-99bf-d5162b039c61 div.sk-dashed-wrapped {border: 1px dashed gray;margin: 0.2em;box-sizing: border-box;padding-bottom: 0.1em;background-color: white;position: relative;}#sk-c9badbfe-9c31-4f60-99bf-d5162b039c61 div.sk-label label {font-family: monospace;font-weight: bold;background-color: white;display: inline-block;line-height: 1.2em;}#sk-c9badbfe-9c31-4f60-99bf-d5162b039c61 div.sk-label-container {position: relative;z-index: 2;text-align: center;}#sk-c9badbfe-9c31-4f60-99bf-d5162b039c61 div.sk-container {display: inline-block;position: relative;}</style><div id=\"sk-c9badbfe-9c31-4f60-99bf-d5162b039c61\" class\"sk-top-container\"><div class=\"sk-container\"><div class=\"sk-item sk-dashed-wrapped\"><div class=\"sk-label-container\"><div class=\"sk-label sk-toggleable\"><input class=\"sk-toggleable__control sk-hidden--visually\" id=\"641bebfd-abac-4e4b-ae81-f4b3717faae4\" type=\"checkbox\" ><label class=\"sk-toggleable__label\" for=\"641bebfd-abac-4e4b-ae81-f4b3717faae4\">Pipeline</label><div class=\"sk-toggleable__content\"><pre>Pipeline(steps=[('preproc',\n",
       "                 ColumnTransformer(transformers=[('num_transformer',\n",
       "                                                  RobustScaler(),\n",
       "                                                  ['number_of_awards_won',\n",
       "                                                   'number_of_top_productions',\n",
       "                                                   'budget', 'duration_min',\n",
       "                                                   'number_of_nominations',\n",
       "                                                   'has_collection']),\n",
       "                                                 ('cat_transformer',\n",
       "                                                  OneHotEncoder(handle_unknown='ignore'),\n",
       "                                                  ['top_countries',\n",
       "                                                   'available_in_english',\n",
       "                                                   'original_language',\n",
       "                                                   'status', 'all_genres']),\n",
       "                                                 ('time_encoder',\n",
       "                                                  Pipeline(steps=[('TimeFeatures',\n",
       "                                                                   TimeFeaturesExtractor()),\n",
       "                                                                  ('CyclicalFeature',\n",
       "                                                                   CyclicalEncoder())]),\n",
       "                                                  ['release_date'])])),\n",
       "                ('lasso', Lasso())])</pre></div></div></div><div class=\"sk-serial\"><div class=\"sk-item sk-dashed-wrapped\"><div class=\"sk-label-container\"><div class=\"sk-label sk-toggleable\"><input class=\"sk-toggleable__control sk-hidden--visually\" id=\"62be43bd-6508-4c0c-8da8-a9ab3a28f520\" type=\"checkbox\" ><label class=\"sk-toggleable__label\" for=\"62be43bd-6508-4c0c-8da8-a9ab3a28f520\">preproc: ColumnTransformer</label><div class=\"sk-toggleable__content\"><pre>ColumnTransformer(transformers=[('num_transformer', RobustScaler(),\n",
       "                                 ['number_of_awards_won',\n",
       "                                  'number_of_top_productions', 'budget',\n",
       "                                  'duration_min', 'number_of_nominations',\n",
       "                                  'has_collection']),\n",
       "                                ('cat_transformer',\n",
       "                                 OneHotEncoder(handle_unknown='ignore'),\n",
       "                                 ['top_countries', 'available_in_english',\n",
       "                                  'original_language', 'status',\n",
       "                                  'all_genres']),\n",
       "                                ('time_encoder',\n",
       "                                 Pipeline(steps=[('TimeFeatures',\n",
       "                                                  TimeFeaturesExtractor()),\n",
       "                                                 ('CyclicalFeature',\n",
       "                                                  CyclicalEncoder())]),\n",
       "                                 ['release_date'])])</pre></div></div></div><div class=\"sk-parallel\"><div class=\"sk-parallel-item\"><div class=\"sk-item\"><div class=\"sk-label-container\"><div class=\"sk-label sk-toggleable\"><input class=\"sk-toggleable__control sk-hidden--visually\" id=\"c4f40a23-3ed1-49e1-af52-f5db4b27f4bb\" type=\"checkbox\" ><label class=\"sk-toggleable__label\" for=\"c4f40a23-3ed1-49e1-af52-f5db4b27f4bb\">num_transformer</label><div class=\"sk-toggleable__content\"><pre>['number_of_awards_won', 'number_of_top_productions', 'budget', 'duration_min', 'number_of_nominations', 'has_collection']</pre></div></div></div><div class=\"sk-serial\"><div class=\"sk-item\"><div class=\"sk-estimator sk-toggleable\"><input class=\"sk-toggleable__control sk-hidden--visually\" id=\"24f85b9c-5ffe-4af8-b965-027e571c01ba\" type=\"checkbox\" ><label class=\"sk-toggleable__label\" for=\"24f85b9c-5ffe-4af8-b965-027e571c01ba\">RobustScaler</label><div class=\"sk-toggleable__content\"><pre>RobustScaler()</pre></div></div></div></div></div></div><div class=\"sk-parallel-item\"><div class=\"sk-item\"><div class=\"sk-label-container\"><div class=\"sk-label sk-toggleable\"><input class=\"sk-toggleable__control sk-hidden--visually\" id=\"74107ba4-a2a1-4c2a-b887-d5d961c0788a\" type=\"checkbox\" ><label class=\"sk-toggleable__label\" for=\"74107ba4-a2a1-4c2a-b887-d5d961c0788a\">cat_transformer</label><div class=\"sk-toggleable__content\"><pre>['top_countries', 'available_in_english', 'original_language', 'status', 'all_genres']</pre></div></div></div><div class=\"sk-serial\"><div class=\"sk-item\"><div class=\"sk-estimator sk-toggleable\"><input class=\"sk-toggleable__control sk-hidden--visually\" id=\"043ed25c-3fbb-4f3a-a679-9dc1124a7a8a\" type=\"checkbox\" ><label class=\"sk-toggleable__label\" for=\"043ed25c-3fbb-4f3a-a679-9dc1124a7a8a\">OneHotEncoder</label><div class=\"sk-toggleable__content\"><pre>OneHotEncoder(handle_unknown='ignore')</pre></div></div></div></div></div></div><div class=\"sk-parallel-item\"><div class=\"sk-item\"><div class=\"sk-label-container\"><div class=\"sk-label sk-toggleable\"><input class=\"sk-toggleable__control sk-hidden--visually\" id=\"2e7fc78b-17ce-4309-8ca2-43b5a79ef874\" type=\"checkbox\" ><label class=\"sk-toggleable__label\" for=\"2e7fc78b-17ce-4309-8ca2-43b5a79ef874\">time_encoder</label><div class=\"sk-toggleable__content\"><pre>['release_date']</pre></div></div></div><div class=\"sk-serial\"><div class=\"sk-item\"><div class=\"sk-serial\"><div class=\"sk-item\"><div class=\"sk-estimator sk-toggleable\"><input class=\"sk-toggleable__control sk-hidden--visually\" id=\"c4e1a6fd-2134-4e08-a685-89af40545f4f\" type=\"checkbox\" ><label class=\"sk-toggleable__label\" for=\"c4e1a6fd-2134-4e08-a685-89af40545f4f\">TimeFeaturesExtractor</label><div class=\"sk-toggleable__content\"><pre>TimeFeaturesExtractor()</pre></div></div></div><div class=\"sk-item\"><div class=\"sk-estimator sk-toggleable\"><input class=\"sk-toggleable__control sk-hidden--visually\" id=\"b5273022-3452-4cbc-acb8-ebb03d015e97\" type=\"checkbox\" ><label class=\"sk-toggleable__label\" for=\"b5273022-3452-4cbc-acb8-ebb03d015e97\">CyclicalEncoder</label><div class=\"sk-toggleable__content\"><pre>CyclicalEncoder()</pre></div></div></div></div></div></div></div></div></div></div><div class=\"sk-item\"><div class=\"sk-estimator sk-toggleable\"><input class=\"sk-toggleable__control sk-hidden--visually\" id=\"84bef199-57c9-4d74-91f9-6bafa2c676f8\" type=\"checkbox\" ><label class=\"sk-toggleable__label\" for=\"84bef199-57c9-4d74-91f9-6bafa2c676f8\">Lasso</label><div class=\"sk-toggleable__content\"><pre>Lasso()</pre></div></div></div></div></div></div></div>"
      ],
      "text/plain": [
       "Pipeline(steps=[('preproc',\n",
       "                 ColumnTransformer(transformers=[('num_transformer',\n",
       "                                                  RobustScaler(),\n",
       "                                                  ['number_of_awards_won',\n",
       "                                                   'number_of_top_productions',\n",
       "                                                   'budget', 'duration_min',\n",
       "                                                   'number_of_nominations',\n",
       "                                                   'has_collection']),\n",
       "                                                 ('cat_transformer',\n",
       "                                                  OneHotEncoder(handle_unknown='ignore'),\n",
       "                                                  ['top_countries',\n",
       "                                                   'available_in_english',\n",
       "                                                   'original_language',\n",
       "                                                   'status', 'all_genres']),\n",
       "                                                 ('time_encoder',\n",
       "                                                  Pipeline(steps=[('TimeFeatures',\n",
       "                                                                   TimeFeaturesExtractor()),\n",
       "                                                                  ('CyclicalFeature',\n",
       "                                                                   CyclicalEncoder())]),\n",
       "                                                  ['release_date'])])),\n",
       "                ('lasso', Lasso())])"
      ]
     },
     "execution_count": 58,
     "metadata": {},
     "output_type": "execute_result"
    }
   ],
   "source": [
    "time_pipeline = Pipeline([\n",
    "    ('preproc', time_preprocessing),\n",
    "    ('lasso', Lasso())])\n",
    "time_pipeline"
   ]
  },
  {
   "cell_type": "markdown",
   "metadata": {},
   "source": [
    "### Advanced categorical encoder to reduce the number of features\n",
    "\n",
    "ℹ️ Most of it has already been coded for you and it shouldn't take long. Still if you want to skip it and move to the next section: _Model Tuning_"
   ]
  },
  {
   "cell_type": "markdown",
   "metadata": {},
   "source": [
    "👉 We need to reduce the number of features to one-hot-encode, which arise from the high cardinality of `all_genres` and `top_countries`"
   ]
  },
  {
   "cell_type": "code",
   "execution_count": 59,
   "metadata": {
    "ExecuteTime": {
     "end_time": "2021-06-29T17:29:14.191964Z",
     "start_time": "2021-06-29T17:29:14.184044Z"
    }
   },
   "outputs": [
    {
     "data": {
      "text/plain": [
       "all_genres       745\n",
       "top_countries    320\n",
       "dtype: int64"
      ]
     },
     "execution_count": 59,
     "metadata": {},
     "output_type": "execute_result"
    }
   ],
   "source": [
    "X[['all_genres', 'top_countries']].nunique()"
   ]
  },
  {
   "cell_type": "markdown",
   "metadata": {},
   "source": [
    "👇 Both share a common pattern: there can be more than 1 country and more than 1 genre per movie."
   ]
  },
  {
   "cell_type": "code",
   "execution_count": 60,
   "metadata": {
    "ExecuteTime": {
     "end_time": "2021-06-29T17:29:14.201275Z",
     "start_time": "2021-06-29T17:29:14.193459Z"
    }
   },
   "outputs": [
    {
     "data": {
      "text/html": [
       "<div>\n",
       "<style scoped>\n",
       "    .dataframe tbody tr th:only-of-type {\n",
       "        vertical-align: middle;\n",
       "    }\n",
       "\n",
       "    .dataframe tbody tr th {\n",
       "        vertical-align: top;\n",
       "    }\n",
       "\n",
       "    .dataframe thead th {\n",
       "        text-align: right;\n",
       "    }\n",
       "</style>\n",
       "<table border=\"1\" class=\"dataframe\">\n",
       "  <thead>\n",
       "    <tr style=\"text-align: right;\">\n",
       "      <th></th>\n",
       "      <th>all_genres</th>\n",
       "      <th>top_countries</th>\n",
       "    </tr>\n",
       "  </thead>\n",
       "  <tbody>\n",
       "    <tr>\n",
       "      <th>6459</th>\n",
       "      <td>Thriller</td>\n",
       "      <td>France, United States of America</td>\n",
       "    </tr>\n",
       "    <tr>\n",
       "      <th>6460</th>\n",
       "      <td>Action, Adventure, Comedy, Thriller</td>\n",
       "      <td>United States of America</td>\n",
       "    </tr>\n",
       "    <tr>\n",
       "      <th>6461</th>\n",
       "      <td>Drama</td>\n",
       "      <td>United States of America</td>\n",
       "    </tr>\n",
       "    <tr>\n",
       "      <th>6462</th>\n",
       "      <td>Horror, Thriller</td>\n",
       "      <td>United States of America</td>\n",
       "    </tr>\n",
       "    <tr>\n",
       "      <th>6463</th>\n",
       "      <td>Drama</td>\n",
       "      <td>France</td>\n",
       "    </tr>\n",
       "  </tbody>\n",
       "</table>\n",
       "</div>"
      ],
      "text/plain": [
       "                               all_genres                     top_countries\n",
       "6459                             Thriller  France, United States of America\n",
       "6460  Action, Adventure, Comedy, Thriller          United States of America\n",
       "6461                                Drama          United States of America\n",
       "6462                     Horror, Thriller          United States of America\n",
       "6463                                Drama                            France"
      ]
     },
     "execution_count": 60,
     "metadata": {},
     "output_type": "execute_result"
    }
   ],
   "source": [
    "X[['all_genres', 'top_countries']].tail()"
   ]
  },
  {
   "cell_type": "markdown",
   "metadata": {},
   "source": [
    "👉 Run the cell below where we have coded for you a custom transformer `CustomGenreAndCountryEncoder` which: \n",
    "- Select the 10 most frequent genres and the 5 most frequent countries\n",
    "- Encode `all_genres` into 10 One Hot Encoded features\n",
    "- Encode `top_countries` into 5 One Hot Encoded features"
   ]
  },
  {
   "cell_type": "code",
   "execution_count": 61,
   "metadata": {
    "ExecuteTime": {
     "end_time": "2021-06-29T17:29:14.210953Z",
     "start_time": "2021-06-29T17:29:14.202791Z"
    }
   },
   "outputs": [],
   "source": [
    "from collections import Counter\n",
    "from sklearn.base import BaseEstimator, TransformerMixin\n",
    "\n",
    "class CustomGenreAndCountryEncoder(BaseEstimator, TransformerMixin):\n",
    "    \"\"\"\n",
    "    Encoding the all_genres and top_companies features which are multi-categorical :\n",
    "    a movie has several possible genres and countries of productions!\n",
    "    \"\"\"\n",
    "\n",
    "    def __init__(self):\n",
    "        pass\n",
    "\n",
    "    def fit(self, X, y=None):\n",
    "        \"\"\"\n",
    "        compute top genres and top countries of productions from all_genres and top_countries features\n",
    "        \"\"\"\n",
    "\n",
    "        # compute top 10 genres       \n",
    "        list_of_genres = list(X['all_genres'].apply(lambda x: [i.strip() for i in x.split(\",\")] if x != [''] else []).values)\n",
    "        top_genres = [m[0] for m in Counter([i for j in list_of_genres for i in j]).most_common(10)]\n",
    "\n",
    "        # save top_genres in dedicated instance variable\n",
    "        self.top_genres = top_genres\n",
    "        \n",
    "         # compute top 5 countries       \n",
    "        list_of_countries = list(X['top_countries'].apply(lambda x: [i.strip() for i in x.split(\",\")] if x != [''] else []).values)\n",
    "        top_countries = [m[0] for m in Counter([i for j in list_of_countries for i in j]).most_common(5)]\n",
    "\n",
    "        # save top_countries in dedicated instance variable\n",
    "        self.top_countries = top_countries\n",
    "\n",
    "        return self\n",
    "\n",
    "    def transform(self, X, y=None):\n",
    "        \"\"\"\n",
    "        encoding genre and country\n",
    "        \"\"\"\n",
    "        X_new = X.copy()\n",
    "        for genre in self.top_genres:\n",
    "            X_new['genre_' + genre] = X_new['all_genres'].apply(lambda x: 1 if genre in x else 0)\n",
    "        X_new = X_new.drop(columns=[\"all_genres\"])\n",
    "        for country in self.top_countries:\n",
    "            X_new['country_' + country] = X_new['top_countries'].apply(lambda x: 1 if country in x else 0)\n",
    "        X_new = X_new.drop(columns=[\"top_countries\"])\n",
    "        return X_new"
   ]
  },
  {
   "cell_type": "code",
   "execution_count": 62,
   "metadata": {
    "ExecuteTime": {
     "end_time": "2021-06-29T17:29:14.289418Z",
     "start_time": "2021-06-29T17:29:14.212506Z"
    }
   },
   "outputs": [
    {
     "name": "stdout",
     "output_type": "stream",
     "text": [
      "(6463, 15)\n"
     ]
    },
    {
     "data": {
      "text/html": [
       "<div>\n",
       "<style scoped>\n",
       "    .dataframe tbody tr th:only-of-type {\n",
       "        vertical-align: middle;\n",
       "    }\n",
       "\n",
       "    .dataframe tbody tr th {\n",
       "        vertical-align: top;\n",
       "    }\n",
       "\n",
       "    .dataframe thead th {\n",
       "        text-align: right;\n",
       "    }\n",
       "</style>\n",
       "<table border=\"1\" class=\"dataframe\">\n",
       "  <thead>\n",
       "    <tr style=\"text-align: right;\">\n",
       "      <th></th>\n",
       "      <th>genre_Drama</th>\n",
       "      <th>genre_Comedy</th>\n",
       "      <th>genre_Thriller</th>\n",
       "      <th>genre_Action</th>\n",
       "      <th>genre_Romance</th>\n",
       "      <th>genre_Adventure</th>\n",
       "      <th>genre_Crime</th>\n",
       "      <th>genre_Science Fiction</th>\n",
       "      <th>genre_Horror</th>\n",
       "      <th>genre_Family</th>\n",
       "      <th>country_United States of America</th>\n",
       "      <th>country_United Kingdom</th>\n",
       "      <th>country_France</th>\n",
       "      <th>country_Germany</th>\n",
       "      <th>country_Canada</th>\n",
       "    </tr>\n",
       "  </thead>\n",
       "  <tbody>\n",
       "    <tr>\n",
       "      <th>0</th>\n",
       "      <td>0</td>\n",
       "      <td>1</td>\n",
       "      <td>0</td>\n",
       "      <td>0</td>\n",
       "      <td>0</td>\n",
       "      <td>0</td>\n",
       "      <td>0</td>\n",
       "      <td>0</td>\n",
       "      <td>0</td>\n",
       "      <td>0</td>\n",
       "      <td>1</td>\n",
       "      <td>0</td>\n",
       "      <td>0</td>\n",
       "      <td>0</td>\n",
       "      <td>0</td>\n",
       "    </tr>\n",
       "    <tr>\n",
       "      <th>1</th>\n",
       "      <td>1</td>\n",
       "      <td>1</td>\n",
       "      <td>0</td>\n",
       "      <td>0</td>\n",
       "      <td>1</td>\n",
       "      <td>0</td>\n",
       "      <td>0</td>\n",
       "      <td>0</td>\n",
       "      <td>0</td>\n",
       "      <td>1</td>\n",
       "      <td>1</td>\n",
       "      <td>0</td>\n",
       "      <td>0</td>\n",
       "      <td>0</td>\n",
       "      <td>0</td>\n",
       "    </tr>\n",
       "    <tr>\n",
       "      <th>2</th>\n",
       "      <td>1</td>\n",
       "      <td>0</td>\n",
       "      <td>0</td>\n",
       "      <td>0</td>\n",
       "      <td>0</td>\n",
       "      <td>0</td>\n",
       "      <td>0</td>\n",
       "      <td>0</td>\n",
       "      <td>0</td>\n",
       "      <td>0</td>\n",
       "      <td>1</td>\n",
       "      <td>0</td>\n",
       "      <td>0</td>\n",
       "      <td>0</td>\n",
       "      <td>0</td>\n",
       "    </tr>\n",
       "    <tr>\n",
       "      <th>3</th>\n",
       "      <td>1</td>\n",
       "      <td>0</td>\n",
       "      <td>1</td>\n",
       "      <td>0</td>\n",
       "      <td>0</td>\n",
       "      <td>0</td>\n",
       "      <td>0</td>\n",
       "      <td>0</td>\n",
       "      <td>0</td>\n",
       "      <td>0</td>\n",
       "      <td>0</td>\n",
       "      <td>0</td>\n",
       "      <td>0</td>\n",
       "      <td>0</td>\n",
       "      <td>0</td>\n",
       "    </tr>\n",
       "    <tr>\n",
       "      <th>4</th>\n",
       "      <td>0</td>\n",
       "      <td>0</td>\n",
       "      <td>1</td>\n",
       "      <td>0</td>\n",
       "      <td>0</td>\n",
       "      <td>0</td>\n",
       "      <td>0</td>\n",
       "      <td>0</td>\n",
       "      <td>1</td>\n",
       "      <td>0</td>\n",
       "      <td>1</td>\n",
       "      <td>0</td>\n",
       "      <td>0</td>\n",
       "      <td>0</td>\n",
       "      <td>1</td>\n",
       "    </tr>\n",
       "  </tbody>\n",
       "</table>\n",
       "</div>"
      ],
      "text/plain": [
       "   genre_Drama  genre_Comedy  genre_Thriller  genre_Action  genre_Romance  \\\n",
       "0            0             1               0             0              0   \n",
       "1            1             1               0             0              1   \n",
       "2            1             0               0             0              0   \n",
       "3            1             0               1             0              0   \n",
       "4            0             0               1             0              0   \n",
       "\n",
       "   genre_Adventure  genre_Crime  genre_Science Fiction  genre_Horror  \\\n",
       "0                0            0                      0             0   \n",
       "1                0            0                      0             0   \n",
       "2                0            0                      0             0   \n",
       "3                0            0                      0             0   \n",
       "4                0            0                      0             1   \n",
       "\n",
       "   genre_Family  country_United States of America  country_United Kingdom  \\\n",
       "0             0                                 1                       0   \n",
       "1             1                                 1                       0   \n",
       "2             0                                 1                       0   \n",
       "3             0                                 0                       0   \n",
       "4             0                                 1                       0   \n",
       "\n",
       "   country_France  country_Germany  country_Canada  \n",
       "0               0                0               0  \n",
       "1               0                0               0  \n",
       "2               0                0               0  \n",
       "3               0                0               0  \n",
       "4               0                0               1  "
      ]
     },
     "execution_count": 62,
     "metadata": {},
     "output_type": "execute_result"
    }
   ],
   "source": [
    "# Check it out\n",
    "X_custom = CustomGenreAndCountryEncoder().fit_transform(X[['all_genres', 'top_countries']])\n",
    "print(X_custom.shape)\n",
    "X_custom.head()"
   ]
  },
  {
   "cell_type": "markdown",
   "metadata": {},
   "source": [
    "**📝 Compute your `final_pipeline` by integrating all these transformers** (or all those you have coded)\n",
    "\n",
    "- `CustomGenreAndCountryEncoder`\n",
    "- `TimeFeaturesExtractor`\n",
    "- `CyclicalFeatureExtractor`"
   ]
  },
  {
   "cell_type": "code",
   "execution_count": 63,
   "metadata": {
    "ExecuteTime": {
     "end_time": "2021-06-29T17:29:14.316693Z",
     "start_time": "2021-06-29T17:29:14.291225Z"
    },
    "tags": [
     "challengify"
    ]
   },
   "outputs": [
    {
     "data": {
      "text/html": [
       "<style>#sk-d973311d-72a9-4043-8e59-419e334154e7 {color: black;background-color: white;}#sk-d973311d-72a9-4043-8e59-419e334154e7 pre{padding: 0;}#sk-d973311d-72a9-4043-8e59-419e334154e7 div.sk-toggleable {background-color: white;}#sk-d973311d-72a9-4043-8e59-419e334154e7 label.sk-toggleable__label {cursor: pointer;display: block;width: 100%;margin-bottom: 0;padding: 0.2em 0.3em;box-sizing: border-box;text-align: center;}#sk-d973311d-72a9-4043-8e59-419e334154e7 div.sk-toggleable__content {max-height: 0;max-width: 0;overflow: hidden;text-align: left;background-color: #f0f8ff;}#sk-d973311d-72a9-4043-8e59-419e334154e7 div.sk-toggleable__content pre {margin: 0.2em;color: black;border-radius: 0.25em;background-color: #f0f8ff;}#sk-d973311d-72a9-4043-8e59-419e334154e7 input.sk-toggleable__control:checked~div.sk-toggleable__content {max-height: 200px;max-width: 100%;overflow: auto;}#sk-d973311d-72a9-4043-8e59-419e334154e7 div.sk-estimator input.sk-toggleable__control:checked~label.sk-toggleable__label {background-color: #d4ebff;}#sk-d973311d-72a9-4043-8e59-419e334154e7 div.sk-label input.sk-toggleable__control:checked~label.sk-toggleable__label {background-color: #d4ebff;}#sk-d973311d-72a9-4043-8e59-419e334154e7 input.sk-hidden--visually {border: 0;clip: rect(1px 1px 1px 1px);clip: rect(1px, 1px, 1px, 1px);height: 1px;margin: -1px;overflow: hidden;padding: 0;position: absolute;width: 1px;}#sk-d973311d-72a9-4043-8e59-419e334154e7 div.sk-estimator {font-family: monospace;background-color: #f0f8ff;margin: 0.25em 0.25em;border: 1px dotted black;border-radius: 0.25em;box-sizing: border-box;}#sk-d973311d-72a9-4043-8e59-419e334154e7 div.sk-estimator:hover {background-color: #d4ebff;}#sk-d973311d-72a9-4043-8e59-419e334154e7 div.sk-parallel-item::after {content: \"\";width: 100%;border-bottom: 1px solid gray;flex-grow: 1;}#sk-d973311d-72a9-4043-8e59-419e334154e7 div.sk-label:hover label.sk-toggleable__label {background-color: #d4ebff;}#sk-d973311d-72a9-4043-8e59-419e334154e7 div.sk-serial::before {content: \"\";position: absolute;border-left: 1px solid gray;box-sizing: border-box;top: 2em;bottom: 0;left: 50%;}#sk-d973311d-72a9-4043-8e59-419e334154e7 div.sk-serial {display: flex;flex-direction: column;align-items: center;background-color: white;}#sk-d973311d-72a9-4043-8e59-419e334154e7 div.sk-item {z-index: 1;}#sk-d973311d-72a9-4043-8e59-419e334154e7 div.sk-parallel {display: flex;align-items: stretch;justify-content: center;background-color: white;}#sk-d973311d-72a9-4043-8e59-419e334154e7 div.sk-parallel-item {display: flex;flex-direction: column;position: relative;background-color: white;}#sk-d973311d-72a9-4043-8e59-419e334154e7 div.sk-parallel-item:first-child::after {align-self: flex-end;width: 50%;}#sk-d973311d-72a9-4043-8e59-419e334154e7 div.sk-parallel-item:last-child::after {align-self: flex-start;width: 50%;}#sk-d973311d-72a9-4043-8e59-419e334154e7 div.sk-parallel-item:only-child::after {width: 0;}#sk-d973311d-72a9-4043-8e59-419e334154e7 div.sk-dashed-wrapped {border: 1px dashed gray;margin: 0.2em;box-sizing: border-box;padding-bottom: 0.1em;background-color: white;position: relative;}#sk-d973311d-72a9-4043-8e59-419e334154e7 div.sk-label label {font-family: monospace;font-weight: bold;background-color: white;display: inline-block;line-height: 1.2em;}#sk-d973311d-72a9-4043-8e59-419e334154e7 div.sk-label-container {position: relative;z-index: 2;text-align: center;}#sk-d973311d-72a9-4043-8e59-419e334154e7 div.sk-container {display: inline-block;position: relative;}</style><div id=\"sk-d973311d-72a9-4043-8e59-419e334154e7\" class\"sk-top-container\"><div class=\"sk-container\"><div class=\"sk-item sk-dashed-wrapped\"><div class=\"sk-label-container\"><div class=\"sk-label sk-toggleable\"><input class=\"sk-toggleable__control sk-hidden--visually\" id=\"ef2b1e6b-8c3f-4ed4-a2ab-9a3276767819\" type=\"checkbox\" ><label class=\"sk-toggleable__label\" for=\"ef2b1e6b-8c3f-4ed4-a2ab-9a3276767819\">ColumnTransformer</label><div class=\"sk-toggleable__content\"><pre>ColumnTransformer(transformers=[('num_transformer', RobustScaler(),\n",
       "                                 ['number_of_awards_won',\n",
       "                                  'number_of_top_productions', 'budget',\n",
       "                                  'duration_min', 'number_of_nominations',\n",
       "                                  'has_collection']),\n",
       "                                ('cat_transformer',\n",
       "                                 OneHotEncoder(handle_unknown='ignore'),\n",
       "                                 ['top_countries', 'available_in_english',\n",
       "                                  'original_language', 'status',\n",
       "                                  'all_genres']),\n",
       "                                ('GenreAndCountry_encoder',\n",
       "                                 CustomGenreAndCountryEncoder(),\n",
       "                                 ['all_genres', 'top_countries']),\n",
       "                                ('time_encoder',\n",
       "                                 Pipeline(steps=[('TimeFeatures',\n",
       "                                                  TimeFeaturesExtractor()),\n",
       "                                                 ('CyclicalFeature',\n",
       "                                                  CyclicalEncoder())]),\n",
       "                                 ['release_date'])])</pre></div></div></div><div class=\"sk-parallel\"><div class=\"sk-parallel-item\"><div class=\"sk-item\"><div class=\"sk-label-container\"><div class=\"sk-label sk-toggleable\"><input class=\"sk-toggleable__control sk-hidden--visually\" id=\"f45e4126-d024-478b-a131-30c945028a6c\" type=\"checkbox\" ><label class=\"sk-toggleable__label\" for=\"f45e4126-d024-478b-a131-30c945028a6c\">num_transformer</label><div class=\"sk-toggleable__content\"><pre>['number_of_awards_won', 'number_of_top_productions', 'budget', 'duration_min', 'number_of_nominations', 'has_collection']</pre></div></div></div><div class=\"sk-serial\"><div class=\"sk-item\"><div class=\"sk-estimator sk-toggleable\"><input class=\"sk-toggleable__control sk-hidden--visually\" id=\"6231e09c-d726-4478-afa7-43a38214ada3\" type=\"checkbox\" ><label class=\"sk-toggleable__label\" for=\"6231e09c-d726-4478-afa7-43a38214ada3\">RobustScaler</label><div class=\"sk-toggleable__content\"><pre>RobustScaler()</pre></div></div></div></div></div></div><div class=\"sk-parallel-item\"><div class=\"sk-item\"><div class=\"sk-label-container\"><div class=\"sk-label sk-toggleable\"><input class=\"sk-toggleable__control sk-hidden--visually\" id=\"5372c856-b83e-407d-a9fa-f48669fe693e\" type=\"checkbox\" ><label class=\"sk-toggleable__label\" for=\"5372c856-b83e-407d-a9fa-f48669fe693e\">cat_transformer</label><div class=\"sk-toggleable__content\"><pre>['top_countries', 'available_in_english', 'original_language', 'status', 'all_genres']</pre></div></div></div><div class=\"sk-serial\"><div class=\"sk-item\"><div class=\"sk-estimator sk-toggleable\"><input class=\"sk-toggleable__control sk-hidden--visually\" id=\"db2187f2-4300-4d81-8073-6568752c3bcf\" type=\"checkbox\" ><label class=\"sk-toggleable__label\" for=\"db2187f2-4300-4d81-8073-6568752c3bcf\">OneHotEncoder</label><div class=\"sk-toggleable__content\"><pre>OneHotEncoder(handle_unknown='ignore')</pre></div></div></div></div></div></div><div class=\"sk-parallel-item\"><div class=\"sk-item\"><div class=\"sk-label-container\"><div class=\"sk-label sk-toggleable\"><input class=\"sk-toggleable__control sk-hidden--visually\" id=\"1d4bd332-6a3a-4907-ae94-e1eb6eded56b\" type=\"checkbox\" ><label class=\"sk-toggleable__label\" for=\"1d4bd332-6a3a-4907-ae94-e1eb6eded56b\">GenreAndCountry_encoder</label><div class=\"sk-toggleable__content\"><pre>['all_genres', 'top_countries']</pre></div></div></div><div class=\"sk-serial\"><div class=\"sk-item\"><div class=\"sk-estimator sk-toggleable\"><input class=\"sk-toggleable__control sk-hidden--visually\" id=\"9f9cd729-41ae-44ff-97fc-91d98806125f\" type=\"checkbox\" ><label class=\"sk-toggleable__label\" for=\"9f9cd729-41ae-44ff-97fc-91d98806125f\">CustomGenreAndCountryEncoder</label><div class=\"sk-toggleable__content\"><pre>CustomGenreAndCountryEncoder()</pre></div></div></div></div></div></div><div class=\"sk-parallel-item\"><div class=\"sk-item\"><div class=\"sk-label-container\"><div class=\"sk-label sk-toggleable\"><input class=\"sk-toggleable__control sk-hidden--visually\" id=\"723ce31a-ded3-4e5a-aac9-aa1a6ec523ed\" type=\"checkbox\" ><label class=\"sk-toggleable__label\" for=\"723ce31a-ded3-4e5a-aac9-aa1a6ec523ed\">time_encoder</label><div class=\"sk-toggleable__content\"><pre>['release_date']</pre></div></div></div><div class=\"sk-serial\"><div class=\"sk-item\"><div class=\"sk-serial\"><div class=\"sk-item\"><div class=\"sk-estimator sk-toggleable\"><input class=\"sk-toggleable__control sk-hidden--visually\" id=\"d8ba3e26-11a5-4efa-92ae-bcc14cb4c54a\" type=\"checkbox\" ><label class=\"sk-toggleable__label\" for=\"d8ba3e26-11a5-4efa-92ae-bcc14cb4c54a\">TimeFeaturesExtractor</label><div class=\"sk-toggleable__content\"><pre>TimeFeaturesExtractor()</pre></div></div></div><div class=\"sk-item\"><div class=\"sk-estimator sk-toggleable\"><input class=\"sk-toggleable__control sk-hidden--visually\" id=\"676bb3ee-2004-47ce-aa33-968b3d0aef99\" type=\"checkbox\" ><label class=\"sk-toggleable__label\" for=\"676bb3ee-2004-47ce-aa33-968b3d0aef99\">CyclicalEncoder</label><div class=\"sk-toggleable__content\"><pre>CyclicalEncoder()</pre></div></div></div></div></div></div></div></div></div></div></div></div>"
      ],
      "text/plain": [
       "ColumnTransformer(transformers=[('num_transformer', RobustScaler(),\n",
       "                                 ['number_of_awards_won',\n",
       "                                  'number_of_top_productions', 'budget',\n",
       "                                  'duration_min', 'number_of_nominations',\n",
       "                                  'has_collection']),\n",
       "                                ('cat_transformer',\n",
       "                                 OneHotEncoder(handle_unknown='ignore'),\n",
       "                                 ['top_countries', 'available_in_english',\n",
       "                                  'original_language', 'status',\n",
       "                                  'all_genres']),\n",
       "                                ('GenreAndCountry_encoder',\n",
       "                                 CustomGenreAndCountryEncoder(),\n",
       "                                 ['all_genres', 'top_countries']),\n",
       "                                ('time_encoder',\n",
       "                                 Pipeline(steps=[('TimeFeatures',\n",
       "                                                  TimeFeaturesExtractor()),\n",
       "                                                 ('CyclicalFeature',\n",
       "                                                  CyclicalEncoder())]),\n",
       "                                 ['release_date'])])"
      ]
     },
     "execution_count": 63,
     "metadata": {},
     "output_type": "execute_result"
    }
   ],
   "source": [
    "genre_and_country_feat = ['all_genres', 'top_countries']\n",
    "dates_feat = ['release_date']\n",
    "\n",
    "#transformer\n",
    "num_transformer = RobustScaler()\n",
    "cat_transformer = OneHotEncoder(handle_unknown='ignore')\n",
    "time_encoder = Pipeline([('TimeFeatures', TimeFeaturesExtractor()),\n",
    "                            ('CyclicalFeature', CyclicalEncoder())])\n",
    "GenreAndCountry_Encoder = CustomGenreAndCountryEncoder()\n",
    "\n",
    "#preprocessing\n",
    "final_preprocessing = ColumnTransformer([('num_transformer', num_transformer, numerical),\n",
    "                                        ('cat_transformer', cat_transformer, categorical),\n",
    "                                        ('GenreAndCountry_encoder', GenreAndCountry_Encoder, genre_and_country_feat),\n",
    "                                        ('time_encoder', time_encoder, dates_feat)\n",
    "                                       ])\n",
    "final_preprocessing"
   ]
  },
  {
   "cell_type": "code",
   "execution_count": 64,
   "metadata": {},
   "outputs": [
    {
     "data": {
      "text/plain": [
       "(6463, 1136)"
      ]
     },
     "execution_count": 64,
     "metadata": {},
     "output_type": "execute_result"
    }
   ],
   "source": [
    "pd.DataFrame.sparse.from_spmatrix(final_preprocessing.fit_transform(X, y)).shape"
   ]
  },
  {
   "cell_type": "code",
   "execution_count": 65,
   "metadata": {},
   "outputs": [
    {
     "data": {
      "text/html": [
       "<style>#sk-e9484975-889c-4e06-a334-114eaa94b319 {color: black;background-color: white;}#sk-e9484975-889c-4e06-a334-114eaa94b319 pre{padding: 0;}#sk-e9484975-889c-4e06-a334-114eaa94b319 div.sk-toggleable {background-color: white;}#sk-e9484975-889c-4e06-a334-114eaa94b319 label.sk-toggleable__label {cursor: pointer;display: block;width: 100%;margin-bottom: 0;padding: 0.2em 0.3em;box-sizing: border-box;text-align: center;}#sk-e9484975-889c-4e06-a334-114eaa94b319 div.sk-toggleable__content {max-height: 0;max-width: 0;overflow: hidden;text-align: left;background-color: #f0f8ff;}#sk-e9484975-889c-4e06-a334-114eaa94b319 div.sk-toggleable__content pre {margin: 0.2em;color: black;border-radius: 0.25em;background-color: #f0f8ff;}#sk-e9484975-889c-4e06-a334-114eaa94b319 input.sk-toggleable__control:checked~div.sk-toggleable__content {max-height: 200px;max-width: 100%;overflow: auto;}#sk-e9484975-889c-4e06-a334-114eaa94b319 div.sk-estimator input.sk-toggleable__control:checked~label.sk-toggleable__label {background-color: #d4ebff;}#sk-e9484975-889c-4e06-a334-114eaa94b319 div.sk-label input.sk-toggleable__control:checked~label.sk-toggleable__label {background-color: #d4ebff;}#sk-e9484975-889c-4e06-a334-114eaa94b319 input.sk-hidden--visually {border: 0;clip: rect(1px 1px 1px 1px);clip: rect(1px, 1px, 1px, 1px);height: 1px;margin: -1px;overflow: hidden;padding: 0;position: absolute;width: 1px;}#sk-e9484975-889c-4e06-a334-114eaa94b319 div.sk-estimator {font-family: monospace;background-color: #f0f8ff;margin: 0.25em 0.25em;border: 1px dotted black;border-radius: 0.25em;box-sizing: border-box;}#sk-e9484975-889c-4e06-a334-114eaa94b319 div.sk-estimator:hover {background-color: #d4ebff;}#sk-e9484975-889c-4e06-a334-114eaa94b319 div.sk-parallel-item::after {content: \"\";width: 100%;border-bottom: 1px solid gray;flex-grow: 1;}#sk-e9484975-889c-4e06-a334-114eaa94b319 div.sk-label:hover label.sk-toggleable__label {background-color: #d4ebff;}#sk-e9484975-889c-4e06-a334-114eaa94b319 div.sk-serial::before {content: \"\";position: absolute;border-left: 1px solid gray;box-sizing: border-box;top: 2em;bottom: 0;left: 50%;}#sk-e9484975-889c-4e06-a334-114eaa94b319 div.sk-serial {display: flex;flex-direction: column;align-items: center;background-color: white;}#sk-e9484975-889c-4e06-a334-114eaa94b319 div.sk-item {z-index: 1;}#sk-e9484975-889c-4e06-a334-114eaa94b319 div.sk-parallel {display: flex;align-items: stretch;justify-content: center;background-color: white;}#sk-e9484975-889c-4e06-a334-114eaa94b319 div.sk-parallel-item {display: flex;flex-direction: column;position: relative;background-color: white;}#sk-e9484975-889c-4e06-a334-114eaa94b319 div.sk-parallel-item:first-child::after {align-self: flex-end;width: 50%;}#sk-e9484975-889c-4e06-a334-114eaa94b319 div.sk-parallel-item:last-child::after {align-self: flex-start;width: 50%;}#sk-e9484975-889c-4e06-a334-114eaa94b319 div.sk-parallel-item:only-child::after {width: 0;}#sk-e9484975-889c-4e06-a334-114eaa94b319 div.sk-dashed-wrapped {border: 1px dashed gray;margin: 0.2em;box-sizing: border-box;padding-bottom: 0.1em;background-color: white;position: relative;}#sk-e9484975-889c-4e06-a334-114eaa94b319 div.sk-label label {font-family: monospace;font-weight: bold;background-color: white;display: inline-block;line-height: 1.2em;}#sk-e9484975-889c-4e06-a334-114eaa94b319 div.sk-label-container {position: relative;z-index: 2;text-align: center;}#sk-e9484975-889c-4e06-a334-114eaa94b319 div.sk-container {display: inline-block;position: relative;}</style><div id=\"sk-e9484975-889c-4e06-a334-114eaa94b319\" class\"sk-top-container\"><div class=\"sk-container\"><div class=\"sk-item sk-dashed-wrapped\"><div class=\"sk-label-container\"><div class=\"sk-label sk-toggleable\"><input class=\"sk-toggleable__control sk-hidden--visually\" id=\"b3e37a0d-1952-40db-9d9f-8e65a1fe9be8\" type=\"checkbox\" ><label class=\"sk-toggleable__label\" for=\"b3e37a0d-1952-40db-9d9f-8e65a1fe9be8\">Pipeline</label><div class=\"sk-toggleable__content\"><pre>Pipeline(steps=[('preproc',\n",
       "                 ColumnTransformer(transformers=[('num_transformer',\n",
       "                                                  RobustScaler(),\n",
       "                                                  ['number_of_awards_won',\n",
       "                                                   'number_of_top_productions',\n",
       "                                                   'budget', 'duration_min',\n",
       "                                                   'number_of_nominations',\n",
       "                                                   'has_collection']),\n",
       "                                                 ('cat_transformer',\n",
       "                                                  OneHotEncoder(handle_unknown='ignore'),\n",
       "                                                  ['top_countries',\n",
       "                                                   'available_in_english',\n",
       "                                                   'original_language',\n",
       "                                                   'status', 'all_genres']),\n",
       "                                                 ('GenreAndCountry_encoder',\n",
       "                                                  CustomGenreAndCountryEncoder(),\n",
       "                                                  ['all_genres',\n",
       "                                                   'top_countries']),\n",
       "                                                 ('time_encoder',\n",
       "                                                  Pipeline(steps=[('TimeFeatures',\n",
       "                                                                   TimeFeaturesExtractor()),\n",
       "                                                                  ('CyclicalFeature',\n",
       "                                                                   CyclicalEncoder())]),\n",
       "                                                  ['release_date'])])),\n",
       "                ('lasso', Lasso())])</pre></div></div></div><div class=\"sk-serial\"><div class=\"sk-item sk-dashed-wrapped\"><div class=\"sk-label-container\"><div class=\"sk-label sk-toggleable\"><input class=\"sk-toggleable__control sk-hidden--visually\" id=\"4fb33f8e-5090-4331-ac37-a8e3dc10a65e\" type=\"checkbox\" ><label class=\"sk-toggleable__label\" for=\"4fb33f8e-5090-4331-ac37-a8e3dc10a65e\">preproc: ColumnTransformer</label><div class=\"sk-toggleable__content\"><pre>ColumnTransformer(transformers=[('num_transformer', RobustScaler(),\n",
       "                                 ['number_of_awards_won',\n",
       "                                  'number_of_top_productions', 'budget',\n",
       "                                  'duration_min', 'number_of_nominations',\n",
       "                                  'has_collection']),\n",
       "                                ('cat_transformer',\n",
       "                                 OneHotEncoder(handle_unknown='ignore'),\n",
       "                                 ['top_countries', 'available_in_english',\n",
       "                                  'original_language', 'status',\n",
       "                                  'all_genres']),\n",
       "                                ('GenreAndCountry_encoder',\n",
       "                                 CustomGenreAndCountryEncoder(),\n",
       "                                 ['all_genres', 'top_countries']),\n",
       "                                ('time_encoder',\n",
       "                                 Pipeline(steps=[('TimeFeatures',\n",
       "                                                  TimeFeaturesExtractor()),\n",
       "                                                 ('CyclicalFeature',\n",
       "                                                  CyclicalEncoder())]),\n",
       "                                 ['release_date'])])</pre></div></div></div><div class=\"sk-parallel\"><div class=\"sk-parallel-item\"><div class=\"sk-item\"><div class=\"sk-label-container\"><div class=\"sk-label sk-toggleable\"><input class=\"sk-toggleable__control sk-hidden--visually\" id=\"1d482c54-5beb-4560-b1e1-7d12bc5aa2c0\" type=\"checkbox\" ><label class=\"sk-toggleable__label\" for=\"1d482c54-5beb-4560-b1e1-7d12bc5aa2c0\">num_transformer</label><div class=\"sk-toggleable__content\"><pre>['number_of_awards_won', 'number_of_top_productions', 'budget', 'duration_min', 'number_of_nominations', 'has_collection']</pre></div></div></div><div class=\"sk-serial\"><div class=\"sk-item\"><div class=\"sk-estimator sk-toggleable\"><input class=\"sk-toggleable__control sk-hidden--visually\" id=\"8d52aa70-d85d-4b09-9852-8be94aa302c1\" type=\"checkbox\" ><label class=\"sk-toggleable__label\" for=\"8d52aa70-d85d-4b09-9852-8be94aa302c1\">RobustScaler</label><div class=\"sk-toggleable__content\"><pre>RobustScaler()</pre></div></div></div></div></div></div><div class=\"sk-parallel-item\"><div class=\"sk-item\"><div class=\"sk-label-container\"><div class=\"sk-label sk-toggleable\"><input class=\"sk-toggleable__control sk-hidden--visually\" id=\"d5a5cb1c-d6a3-4485-ab2d-72f6871a55c5\" type=\"checkbox\" ><label class=\"sk-toggleable__label\" for=\"d5a5cb1c-d6a3-4485-ab2d-72f6871a55c5\">cat_transformer</label><div class=\"sk-toggleable__content\"><pre>['top_countries', 'available_in_english', 'original_language', 'status', 'all_genres']</pre></div></div></div><div class=\"sk-serial\"><div class=\"sk-item\"><div class=\"sk-estimator sk-toggleable\"><input class=\"sk-toggleable__control sk-hidden--visually\" id=\"f0455573-fd2a-4472-99c1-e43bc4fdfa44\" type=\"checkbox\" ><label class=\"sk-toggleable__label\" for=\"f0455573-fd2a-4472-99c1-e43bc4fdfa44\">OneHotEncoder</label><div class=\"sk-toggleable__content\"><pre>OneHotEncoder(handle_unknown='ignore')</pre></div></div></div></div></div></div><div class=\"sk-parallel-item\"><div class=\"sk-item\"><div class=\"sk-label-container\"><div class=\"sk-label sk-toggleable\"><input class=\"sk-toggleable__control sk-hidden--visually\" id=\"4a343e5e-cbdb-4ce7-af62-d78790df2a76\" type=\"checkbox\" ><label class=\"sk-toggleable__label\" for=\"4a343e5e-cbdb-4ce7-af62-d78790df2a76\">GenreAndCountry_encoder</label><div class=\"sk-toggleable__content\"><pre>['all_genres', 'top_countries']</pre></div></div></div><div class=\"sk-serial\"><div class=\"sk-item\"><div class=\"sk-estimator sk-toggleable\"><input class=\"sk-toggleable__control sk-hidden--visually\" id=\"80822533-9271-4806-861a-c4255dcc8aa5\" type=\"checkbox\" ><label class=\"sk-toggleable__label\" for=\"80822533-9271-4806-861a-c4255dcc8aa5\">CustomGenreAndCountryEncoder</label><div class=\"sk-toggleable__content\"><pre>CustomGenreAndCountryEncoder()</pre></div></div></div></div></div></div><div class=\"sk-parallel-item\"><div class=\"sk-item\"><div class=\"sk-label-container\"><div class=\"sk-label sk-toggleable\"><input class=\"sk-toggleable__control sk-hidden--visually\" id=\"d2e9418c-7a62-4292-98c7-d582187c16b7\" type=\"checkbox\" ><label class=\"sk-toggleable__label\" for=\"d2e9418c-7a62-4292-98c7-d582187c16b7\">time_encoder</label><div class=\"sk-toggleable__content\"><pre>['release_date']</pre></div></div></div><div class=\"sk-serial\"><div class=\"sk-item\"><div class=\"sk-serial\"><div class=\"sk-item\"><div class=\"sk-estimator sk-toggleable\"><input class=\"sk-toggleable__control sk-hidden--visually\" id=\"fec13eae-a908-4315-8195-d0c41d61355b\" type=\"checkbox\" ><label class=\"sk-toggleable__label\" for=\"fec13eae-a908-4315-8195-d0c41d61355b\">TimeFeaturesExtractor</label><div class=\"sk-toggleable__content\"><pre>TimeFeaturesExtractor()</pre></div></div></div><div class=\"sk-item\"><div class=\"sk-estimator sk-toggleable\"><input class=\"sk-toggleable__control sk-hidden--visually\" id=\"ee8b6e0d-a8e1-4831-a652-efbd443357d8\" type=\"checkbox\" ><label class=\"sk-toggleable__label\" for=\"ee8b6e0d-a8e1-4831-a652-efbd443357d8\">CyclicalEncoder</label><div class=\"sk-toggleable__content\"><pre>CyclicalEncoder()</pre></div></div></div></div></div></div></div></div></div></div><div class=\"sk-item\"><div class=\"sk-estimator sk-toggleable\"><input class=\"sk-toggleable__control sk-hidden--visually\" id=\"2cde1554-251f-4022-bf96-fc895941cd75\" type=\"checkbox\" ><label class=\"sk-toggleable__label\" for=\"2cde1554-251f-4022-bf96-fc895941cd75\">Lasso</label><div class=\"sk-toggleable__content\"><pre>Lasso()</pre></div></div></div></div></div></div></div>"
      ],
      "text/plain": [
       "Pipeline(steps=[('preproc',\n",
       "                 ColumnTransformer(transformers=[('num_transformer',\n",
       "                                                  RobustScaler(),\n",
       "                                                  ['number_of_awards_won',\n",
       "                                                   'number_of_top_productions',\n",
       "                                                   'budget', 'duration_min',\n",
       "                                                   'number_of_nominations',\n",
       "                                                   'has_collection']),\n",
       "                                                 ('cat_transformer',\n",
       "                                                  OneHotEncoder(handle_unknown='ignore'),\n",
       "                                                  ['top_countries',\n",
       "                                                   'available_in_english',\n",
       "                                                   'original_language',\n",
       "                                                   'status', 'all_genres']),\n",
       "                                                 ('GenreAndCountry_encoder',\n",
       "                                                  CustomGenreAndCountryEncoder(),\n",
       "                                                  ['all_genres',\n",
       "                                                   'top_countries']),\n",
       "                                                 ('time_encoder',\n",
       "                                                  Pipeline(steps=[('TimeFeatures',\n",
       "                                                                   TimeFeaturesExtractor()),\n",
       "                                                                  ('CyclicalFeature',\n",
       "                                                                   CyclicalEncoder())]),\n",
       "                                                  ['release_date'])])),\n",
       "                ('lasso', Lasso())])"
      ]
     },
     "execution_count": 65,
     "metadata": {},
     "output_type": "execute_result"
    }
   ],
   "source": [
    "final_pipeline = Pipeline([\n",
    "    ('preproc', final_preprocessing),\n",
    "    ('lasso', Lasso())])\n",
    "final_pipeline"
   ]
  },
  {
   "cell_type": "markdown",
   "metadata": {},
   "source": [
    "📝 **Compute and store its cross validated scores as `final_scores` array of floats**\n",
    "\n",
    "- It does not necessarily improve the performance before we can try-out doing model tuning\n",
    "- However, with a now limited number of features, we will be able to train more complex models in next section (ensemble...)"
   ]
  },
  {
   "cell_type": "code",
   "execution_count": 46,
   "metadata": {},
   "outputs": [],
   "source": [
    "rr = pd.DataFrame.sparse.from_spmatrix(final_preprocessing.fit_transform(X, y))"
   ]
  },
  {
   "cell_type": "code",
   "execution_count": 47,
   "metadata": {},
   "outputs": [
    {
     "data": {
      "text/plain": [
       "array([-0.30083499, -0.32175983, -0.31156171, -0.30201357, -0.33224047])"
      ]
     },
     "execution_count": 47,
     "metadata": {},
     "output_type": "execute_result"
    }
   ],
   "source": [
    "final_scores=cross_val_score(Lasso(), rr, y, cv=5, scoring=scoring)\n",
    "final_scores"
   ]
  },
  {
   "cell_type": "markdown",
   "metadata": {},
   "source": [
    "### 🧪 Save your result\n",
    "\n",
    "Run the following cell to save your results."
   ]
  },
  {
   "cell_type": "code",
   "execution_count": 48,
   "metadata": {
    "ExecuteTime": {
     "end_time": "2021-06-29T17:29:15.204479Z",
     "start_time": "2021-06-29T17:29:15.198198Z"
    }
   },
   "outputs": [],
   "source": [
    "ChallengeResult(\n",
    "    'feature_engineering',\n",
    "    X_time_features=X_time_features,\n",
    "    X_time_cyclical= X_time_cyclical,\n",
    "    time_pipeline=time_pipeline,\n",
    "    final_pipeline=final_pipeline,\n",
    "    final_scores=final_scores\n",
    ").write()\n",
    "\n",
    "# Hint: Try restarting your notebook if you obtain an error about saving a custom encoder"
   ]
  },
  {
   "cell_type": "markdown",
   "metadata": {},
   "source": [
    "## Model tuning"
   ]
  },
  {
   "cell_type": "markdown",
   "metadata": {},
   "source": [
    "### Random Forest"
   ]
  },
  {
   "cell_type": "markdown",
   "metadata": {},
   "source": [
    "📝 **Change the estimator of your `final_pipeline` by a Random Forest and checkout your new cross-validated score**"
   ]
  },
  {
   "cell_type": "code",
   "execution_count": 69,
   "metadata": {
    "ExecuteTime": {
     "end_time": "2021-06-29T17:29:19.391364Z",
     "start_time": "2021-06-29T17:29:15.206532Z"
    },
    "tags": [
     "challengify"
    ]
   },
   "outputs": [
    {
     "data": {
      "text/html": [
       "<style>#sk-0fc1d462-4229-4884-8422-478676aee22a {color: black;background-color: white;}#sk-0fc1d462-4229-4884-8422-478676aee22a pre{padding: 0;}#sk-0fc1d462-4229-4884-8422-478676aee22a div.sk-toggleable {background-color: white;}#sk-0fc1d462-4229-4884-8422-478676aee22a label.sk-toggleable__label {cursor: pointer;display: block;width: 100%;margin-bottom: 0;padding: 0.2em 0.3em;box-sizing: border-box;text-align: center;}#sk-0fc1d462-4229-4884-8422-478676aee22a div.sk-toggleable__content {max-height: 0;max-width: 0;overflow: hidden;text-align: left;background-color: #f0f8ff;}#sk-0fc1d462-4229-4884-8422-478676aee22a div.sk-toggleable__content pre {margin: 0.2em;color: black;border-radius: 0.25em;background-color: #f0f8ff;}#sk-0fc1d462-4229-4884-8422-478676aee22a input.sk-toggleable__control:checked~div.sk-toggleable__content {max-height: 200px;max-width: 100%;overflow: auto;}#sk-0fc1d462-4229-4884-8422-478676aee22a div.sk-estimator input.sk-toggleable__control:checked~label.sk-toggleable__label {background-color: #d4ebff;}#sk-0fc1d462-4229-4884-8422-478676aee22a div.sk-label input.sk-toggleable__control:checked~label.sk-toggleable__label {background-color: #d4ebff;}#sk-0fc1d462-4229-4884-8422-478676aee22a input.sk-hidden--visually {border: 0;clip: rect(1px 1px 1px 1px);clip: rect(1px, 1px, 1px, 1px);height: 1px;margin: -1px;overflow: hidden;padding: 0;position: absolute;width: 1px;}#sk-0fc1d462-4229-4884-8422-478676aee22a div.sk-estimator {font-family: monospace;background-color: #f0f8ff;margin: 0.25em 0.25em;border: 1px dotted black;border-radius: 0.25em;box-sizing: border-box;}#sk-0fc1d462-4229-4884-8422-478676aee22a div.sk-estimator:hover {background-color: #d4ebff;}#sk-0fc1d462-4229-4884-8422-478676aee22a div.sk-parallel-item::after {content: \"\";width: 100%;border-bottom: 1px solid gray;flex-grow: 1;}#sk-0fc1d462-4229-4884-8422-478676aee22a div.sk-label:hover label.sk-toggleable__label {background-color: #d4ebff;}#sk-0fc1d462-4229-4884-8422-478676aee22a div.sk-serial::before {content: \"\";position: absolute;border-left: 1px solid gray;box-sizing: border-box;top: 2em;bottom: 0;left: 50%;}#sk-0fc1d462-4229-4884-8422-478676aee22a div.sk-serial {display: flex;flex-direction: column;align-items: center;background-color: white;}#sk-0fc1d462-4229-4884-8422-478676aee22a div.sk-item {z-index: 1;}#sk-0fc1d462-4229-4884-8422-478676aee22a div.sk-parallel {display: flex;align-items: stretch;justify-content: center;background-color: white;}#sk-0fc1d462-4229-4884-8422-478676aee22a div.sk-parallel-item {display: flex;flex-direction: column;position: relative;background-color: white;}#sk-0fc1d462-4229-4884-8422-478676aee22a div.sk-parallel-item:first-child::after {align-self: flex-end;width: 50%;}#sk-0fc1d462-4229-4884-8422-478676aee22a div.sk-parallel-item:last-child::after {align-self: flex-start;width: 50%;}#sk-0fc1d462-4229-4884-8422-478676aee22a div.sk-parallel-item:only-child::after {width: 0;}#sk-0fc1d462-4229-4884-8422-478676aee22a div.sk-dashed-wrapped {border: 1px dashed gray;margin: 0.2em;box-sizing: border-box;padding-bottom: 0.1em;background-color: white;position: relative;}#sk-0fc1d462-4229-4884-8422-478676aee22a div.sk-label label {font-family: monospace;font-weight: bold;background-color: white;display: inline-block;line-height: 1.2em;}#sk-0fc1d462-4229-4884-8422-478676aee22a div.sk-label-container {position: relative;z-index: 2;text-align: center;}#sk-0fc1d462-4229-4884-8422-478676aee22a div.sk-container {display: inline-block;position: relative;}</style><div id=\"sk-0fc1d462-4229-4884-8422-478676aee22a\" class\"sk-top-container\"><div class=\"sk-container\"><div class=\"sk-item sk-dashed-wrapped\"><div class=\"sk-label-container\"><div class=\"sk-label sk-toggleable\"><input class=\"sk-toggleable__control sk-hidden--visually\" id=\"aaa4155d-e523-453c-8298-6ff2c26b2b6b\" type=\"checkbox\" ><label class=\"sk-toggleable__label\" for=\"aaa4155d-e523-453c-8298-6ff2c26b2b6b\">Pipeline</label><div class=\"sk-toggleable__content\"><pre>Pipeline(steps=[('preproc',\n",
       "                 ColumnTransformer(transformers=[('num_transformer',\n",
       "                                                  RobustScaler(),\n",
       "                                                  ['number_of_awards_won',\n",
       "                                                   'number_of_top_productions',\n",
       "                                                   'budget', 'duration_min',\n",
       "                                                   'number_of_nominations',\n",
       "                                                   'has_collection']),\n",
       "                                                 ('cat_transformer',\n",
       "                                                  OneHotEncoder(handle_unknown='ignore'),\n",
       "                                                  ['top_countries',\n",
       "                                                   'available_in_english',\n",
       "                                                   'original_language',\n",
       "                                                   'status', 'all_genres']),\n",
       "                                                 ('GenreAndCountry_encoder',\n",
       "                                                  CustomGenreAndCountryEncoder(),\n",
       "                                                  ['all_genres',\n",
       "                                                   'top_countries'])])),\n",
       "                ('RandomForestRegressor', RandomForestRegressor())])</pre></div></div></div><div class=\"sk-serial\"><div class=\"sk-item sk-dashed-wrapped\"><div class=\"sk-label-container\"><div class=\"sk-label sk-toggleable\"><input class=\"sk-toggleable__control sk-hidden--visually\" id=\"836afed6-85c1-4f5b-8295-6d1002358c03\" type=\"checkbox\" ><label class=\"sk-toggleable__label\" for=\"836afed6-85c1-4f5b-8295-6d1002358c03\">preproc: ColumnTransformer</label><div class=\"sk-toggleable__content\"><pre>ColumnTransformer(transformers=[('num_transformer', RobustScaler(),\n",
       "                                 ['number_of_awards_won',\n",
       "                                  'number_of_top_productions', 'budget',\n",
       "                                  'duration_min', 'number_of_nominations',\n",
       "                                  'has_collection']),\n",
       "                                ('cat_transformer',\n",
       "                                 OneHotEncoder(handle_unknown='ignore'),\n",
       "                                 ['top_countries', 'available_in_english',\n",
       "                                  'original_language', 'status',\n",
       "                                  'all_genres']),\n",
       "                                ('GenreAndCountry_encoder',\n",
       "                                 CustomGenreAndCountryEncoder(),\n",
       "                                 ['all_genres', 'top_countries'])])</pre></div></div></div><div class=\"sk-parallel\"><div class=\"sk-parallel-item\"><div class=\"sk-item\"><div class=\"sk-label-container\"><div class=\"sk-label sk-toggleable\"><input class=\"sk-toggleable__control sk-hidden--visually\" id=\"5bdd2e53-34d0-4ce5-bbcd-6ecd6cd197e6\" type=\"checkbox\" ><label class=\"sk-toggleable__label\" for=\"5bdd2e53-34d0-4ce5-bbcd-6ecd6cd197e6\">num_transformer</label><div class=\"sk-toggleable__content\"><pre>['number_of_awards_won', 'number_of_top_productions', 'budget', 'duration_min', 'number_of_nominations', 'has_collection']</pre></div></div></div><div class=\"sk-serial\"><div class=\"sk-item\"><div class=\"sk-estimator sk-toggleable\"><input class=\"sk-toggleable__control sk-hidden--visually\" id=\"75246614-883f-4c26-9ba5-ac6fa2e168e9\" type=\"checkbox\" ><label class=\"sk-toggleable__label\" for=\"75246614-883f-4c26-9ba5-ac6fa2e168e9\">RobustScaler</label><div class=\"sk-toggleable__content\"><pre>RobustScaler()</pre></div></div></div></div></div></div><div class=\"sk-parallel-item\"><div class=\"sk-item\"><div class=\"sk-label-container\"><div class=\"sk-label sk-toggleable\"><input class=\"sk-toggleable__control sk-hidden--visually\" id=\"ab03aa8d-8abd-4c9a-91cf-03fa8a0c1563\" type=\"checkbox\" ><label class=\"sk-toggleable__label\" for=\"ab03aa8d-8abd-4c9a-91cf-03fa8a0c1563\">cat_transformer</label><div class=\"sk-toggleable__content\"><pre>['top_countries', 'available_in_english', 'original_language', 'status', 'all_genres']</pre></div></div></div><div class=\"sk-serial\"><div class=\"sk-item\"><div class=\"sk-estimator sk-toggleable\"><input class=\"sk-toggleable__control sk-hidden--visually\" id=\"6eac84a7-e27a-41b2-bbc9-2c05486699b7\" type=\"checkbox\" ><label class=\"sk-toggleable__label\" for=\"6eac84a7-e27a-41b2-bbc9-2c05486699b7\">OneHotEncoder</label><div class=\"sk-toggleable__content\"><pre>OneHotEncoder(handle_unknown='ignore')</pre></div></div></div></div></div></div><div class=\"sk-parallel-item\"><div class=\"sk-item\"><div class=\"sk-label-container\"><div class=\"sk-label sk-toggleable\"><input class=\"sk-toggleable__control sk-hidden--visually\" id=\"e221611e-f636-4aa1-abe6-af5e06d8022b\" type=\"checkbox\" ><label class=\"sk-toggleable__label\" for=\"e221611e-f636-4aa1-abe6-af5e06d8022b\">GenreAndCountry_encoder</label><div class=\"sk-toggleable__content\"><pre>['all_genres', 'top_countries']</pre></div></div></div><div class=\"sk-serial\"><div class=\"sk-item\"><div class=\"sk-estimator sk-toggleable\"><input class=\"sk-toggleable__control sk-hidden--visually\" id=\"ecfe9e19-7a88-43bd-b327-2f06f4f67f9f\" type=\"checkbox\" ><label class=\"sk-toggleable__label\" for=\"ecfe9e19-7a88-43bd-b327-2f06f4f67f9f\">CustomGenreAndCountryEncoder</label><div class=\"sk-toggleable__content\"><pre>CustomGenreAndCountryEncoder()</pre></div></div></div></div></div></div></div></div><div class=\"sk-item\"><div class=\"sk-estimator sk-toggleable\"><input class=\"sk-toggleable__control sk-hidden--visually\" id=\"8a0e8a36-b193-4d05-8145-9197198b8d2f\" type=\"checkbox\" ><label class=\"sk-toggleable__label\" for=\"8a0e8a36-b193-4d05-8145-9197198b8d2f\">RandomForestRegressor</label><div class=\"sk-toggleable__content\"><pre>RandomForestRegressor()</pre></div></div></div></div></div></div></div>"
      ],
      "text/plain": [
       "Pipeline(steps=[('preproc',\n",
       "                 ColumnTransformer(transformers=[('num_transformer',\n",
       "                                                  RobustScaler(),\n",
       "                                                  ['number_of_awards_won',\n",
       "                                                   'number_of_top_productions',\n",
       "                                                   'budget', 'duration_min',\n",
       "                                                   'number_of_nominations',\n",
       "                                                   'has_collection']),\n",
       "                                                 ('cat_transformer',\n",
       "                                                  OneHotEncoder(handle_unknown='ignore'),\n",
       "                                                  ['top_countries',\n",
       "                                                   'available_in_english',\n",
       "                                                   'original_language',\n",
       "                                                   'status', 'all_genres']),\n",
       "                                                 ('GenreAndCountry_encoder',\n",
       "                                                  CustomGenreAndCountryEncoder(),\n",
       "                                                  ['all_genres',\n",
       "                                                   'top_countries'])])),\n",
       "                ('RandomForestRegressor', RandomForestRegressor())])"
      ]
     },
     "execution_count": 69,
     "metadata": {},
     "output_type": "execute_result"
    }
   ],
   "source": [
    "from sklearn.ensemble import RandomForestRegressor\n",
    "final_preprocessing = ColumnTransformer([('num_transformer', num_transformer, numerical),\n",
    "                                        ('cat_transformer', cat_transformer, categorical),\n",
    "                                        ('GenreAndCountry_encoder', GenreAndCountry_Encoder, genre_and_country_feat),\n",
    "                                       ])\n",
    "RFreg_pipeline = Pipeline([\n",
    "    ('preproc', final_preprocessing),\n",
    "    ('RandomForestRegressor', RandomForestRegressor())])\n",
    "RFreg_pipeline\n"
   ]
  },
  {
   "cell_type": "code",
   "execution_count": 70,
   "metadata": {},
   "outputs": [
    {
     "data": {
      "text/plain": [
       "array([-0.25432053, -0.2636627 , -0.26100844, -0.25010233, -0.25470168])"
      ]
     },
     "execution_count": 70,
     "metadata": {},
     "output_type": "execute_result"
    }
   ],
   "source": [
    "RFreg_scores=cross_val_score(RFreg_pipeline, X, y, cv=5, scoring=scoring)\n",
    "RFreg_scores"
   ]
  },
  {
   "cell_type": "markdown",
   "metadata": {},
   "source": [
    "### Best hyperparameters quest\n",
    "\n",
    "\n",
    "\n",
    "**📝 Fine tune your model to try to get the best performance in the minimum amount of time!**\n",
    "\n",
    "- Store the result of your search inside the `search` variable.\n",
    "- Store your 5 cross-validated scores inside `best_scores` array of floats"
   ]
  },
  {
   "cell_type": "code",
   "execution_count": 73,
   "metadata": {},
   "outputs": [
    {
     "name": "stdout",
     "output_type": "stream",
     "text": [
      "-0.25388959163023456\n",
      "{'RandomForestRegressor__max_depth': None, 'RandomForestRegressor__n_estimators': 500}\n"
     ]
    }
   ],
   "source": [
    "from sklearn.model_selection import GridSearchCV\n",
    "\n",
    "# Instanciate grid search\n",
    "grid_search = GridSearchCV(\n",
    "    RFreg_pipeline, \n",
    "    param_grid={\n",
    "         'RandomForestRegressor__n_estimators' : [10,100,500],\n",
    "         'RandomForestRegressor__max_depth' : [None,5]\n",
    "                },\n",
    "    cv=5,\n",
    "    scoring=scoring)\n",
    "\n",
    "grid_search.fit(X, y)\n",
    "\n",
    "sc=grid_search.best_score_\n",
    "est=grid_search.best_estimator_\n",
    "prm=grid_search.best_params_\n",
    "print(sc)\n",
    "print(prm)"
   ]
  },
  {
   "cell_type": "code",
   "execution_count": 76,
   "metadata": {},
   "outputs": [
    {
     "data": {
      "text/html": [
       "<div>\n",
       "<style scoped>\n",
       "    .dataframe tbody tr th:only-of-type {\n",
       "        vertical-align: middle;\n",
       "    }\n",
       "\n",
       "    .dataframe tbody tr th {\n",
       "        vertical-align: top;\n",
       "    }\n",
       "\n",
       "    .dataframe thead th {\n",
       "        text-align: right;\n",
       "    }\n",
       "</style>\n",
       "<table border=\"1\" class=\"dataframe\">\n",
       "  <thead>\n",
       "    <tr style=\"text-align: right;\">\n",
       "      <th></th>\n",
       "      <th>mean_fit_time</th>\n",
       "      <th>std_fit_time</th>\n",
       "      <th>mean_score_time</th>\n",
       "      <th>std_score_time</th>\n",
       "      <th>param_RandomForestRegressor__max_depth</th>\n",
       "      <th>param_RandomForestRegressor__n_estimators</th>\n",
       "      <th>params</th>\n",
       "      <th>split0_test_score</th>\n",
       "      <th>split1_test_score</th>\n",
       "      <th>split2_test_score</th>\n",
       "      <th>split3_test_score</th>\n",
       "      <th>split4_test_score</th>\n",
       "      <th>mean_test_score</th>\n",
       "      <th>std_test_score</th>\n",
       "      <th>rank_test_score</th>\n",
       "    </tr>\n",
       "  </thead>\n",
       "  <tbody>\n",
       "    <tr>\n",
       "      <th>0</th>\n",
       "      <td>2.715185</td>\n",
       "      <td>0.028464</td>\n",
       "      <td>0.036553</td>\n",
       "      <td>0.000897</td>\n",
       "      <td>None</td>\n",
       "      <td>10</td>\n",
       "      <td>{'RandomForestRegressor__max_depth': None, 'Ra...</td>\n",
       "      <td>-0.274549</td>\n",
       "      <td>-0.265828</td>\n",
       "      <td>-0.275599</td>\n",
       "      <td>-0.263766</td>\n",
       "      <td>-0.276691</td>\n",
       "      <td>-0.271287</td>\n",
       "      <td>0.005381</td>\n",
       "      <td>3</td>\n",
       "    </tr>\n",
       "    <tr>\n",
       "      <th>1</th>\n",
       "      <td>27.138726</td>\n",
       "      <td>0.478865</td>\n",
       "      <td>0.078401</td>\n",
       "      <td>0.002552</td>\n",
       "      <td>None</td>\n",
       "      <td>100</td>\n",
       "      <td>{'RandomForestRegressor__max_depth': None, 'Ra...</td>\n",
       "      <td>-0.250842</td>\n",
       "      <td>-0.261018</td>\n",
       "      <td>-0.256921</td>\n",
       "      <td>-0.248994</td>\n",
       "      <td>-0.255591</td>\n",
       "      <td>-0.254673</td>\n",
       "      <td>0.004315</td>\n",
       "      <td>2</td>\n",
       "    </tr>\n",
       "    <tr>\n",
       "      <th>2</th>\n",
       "      <td>151.244112</td>\n",
       "      <td>5.365509</td>\n",
       "      <td>0.324521</td>\n",
       "      <td>0.032949</td>\n",
       "      <td>None</td>\n",
       "      <td>500</td>\n",
       "      <td>{'RandomForestRegressor__max_depth': None, 'Ra...</td>\n",
       "      <td>-0.250827</td>\n",
       "      <td>-0.260433</td>\n",
       "      <td>-0.257245</td>\n",
       "      <td>-0.246477</td>\n",
       "      <td>-0.254466</td>\n",
       "      <td>-0.253890</td>\n",
       "      <td>0.004873</td>\n",
       "      <td>1</td>\n",
       "    </tr>\n",
       "    <tr>\n",
       "      <th>3</th>\n",
       "      <td>0.186283</td>\n",
       "      <td>0.009755</td>\n",
       "      <td>0.035651</td>\n",
       "      <td>0.002660</td>\n",
       "      <td>5</td>\n",
       "      <td>10</td>\n",
       "      <td>{'RandomForestRegressor__max_depth': 5, 'Rando...</td>\n",
       "      <td>-0.296478</td>\n",
       "      <td>-0.327441</td>\n",
       "      <td>-0.326069</td>\n",
       "      <td>-0.296984</td>\n",
       "      <td>-0.311981</td>\n",
       "      <td>-0.311791</td>\n",
       "      <td>0.013435</td>\n",
       "      <td>6</td>\n",
       "    </tr>\n",
       "    <tr>\n",
       "      <th>4</th>\n",
       "      <td>1.068847</td>\n",
       "      <td>0.044261</td>\n",
       "      <td>0.052134</td>\n",
       "      <td>0.006622</td>\n",
       "      <td>5</td>\n",
       "      <td>100</td>\n",
       "      <td>{'RandomForestRegressor__max_depth': 5, 'Rando...</td>\n",
       "      <td>-0.296551</td>\n",
       "      <td>-0.308106</td>\n",
       "      <td>-0.314598</td>\n",
       "      <td>-0.288386</td>\n",
       "      <td>-0.317286</td>\n",
       "      <td>-0.304986</td>\n",
       "      <td>0.010956</td>\n",
       "      <td>5</td>\n",
       "    </tr>\n",
       "    <tr>\n",
       "      <th>5</th>\n",
       "      <td>5.005022</td>\n",
       "      <td>0.174161</td>\n",
       "      <td>0.105196</td>\n",
       "      <td>0.004538</td>\n",
       "      <td>5</td>\n",
       "      <td>500</td>\n",
       "      <td>{'RandomForestRegressor__max_depth': 5, 'Rando...</td>\n",
       "      <td>-0.294052</td>\n",
       "      <td>-0.306853</td>\n",
       "      <td>-0.314683</td>\n",
       "      <td>-0.289588</td>\n",
       "      <td>-0.314039</td>\n",
       "      <td>-0.303843</td>\n",
       "      <td>0.010292</td>\n",
       "      <td>4</td>\n",
       "    </tr>\n",
       "  </tbody>\n",
       "</table>\n",
       "</div>"
      ],
      "text/plain": [
       "   mean_fit_time  std_fit_time  mean_score_time  std_score_time  \\\n",
       "0       2.715185      0.028464         0.036553        0.000897   \n",
       "1      27.138726      0.478865         0.078401        0.002552   \n",
       "2     151.244112      5.365509         0.324521        0.032949   \n",
       "3       0.186283      0.009755         0.035651        0.002660   \n",
       "4       1.068847      0.044261         0.052134        0.006622   \n",
       "5       5.005022      0.174161         0.105196        0.004538   \n",
       "\n",
       "  param_RandomForestRegressor__max_depth  \\\n",
       "0                                   None   \n",
       "1                                   None   \n",
       "2                                   None   \n",
       "3                                      5   \n",
       "4                                      5   \n",
       "5                                      5   \n",
       "\n",
       "  param_RandomForestRegressor__n_estimators  \\\n",
       "0                                        10   \n",
       "1                                       100   \n",
       "2                                       500   \n",
       "3                                        10   \n",
       "4                                       100   \n",
       "5                                       500   \n",
       "\n",
       "                                              params  split0_test_score  \\\n",
       "0  {'RandomForestRegressor__max_depth': None, 'Ra...          -0.274549   \n",
       "1  {'RandomForestRegressor__max_depth': None, 'Ra...          -0.250842   \n",
       "2  {'RandomForestRegressor__max_depth': None, 'Ra...          -0.250827   \n",
       "3  {'RandomForestRegressor__max_depth': 5, 'Rando...          -0.296478   \n",
       "4  {'RandomForestRegressor__max_depth': 5, 'Rando...          -0.296551   \n",
       "5  {'RandomForestRegressor__max_depth': 5, 'Rando...          -0.294052   \n",
       "\n",
       "   split1_test_score  split2_test_score  split3_test_score  split4_test_score  \\\n",
       "0          -0.265828          -0.275599          -0.263766          -0.276691   \n",
       "1          -0.261018          -0.256921          -0.248994          -0.255591   \n",
       "2          -0.260433          -0.257245          -0.246477          -0.254466   \n",
       "3          -0.327441          -0.326069          -0.296984          -0.311981   \n",
       "4          -0.308106          -0.314598          -0.288386          -0.317286   \n",
       "5          -0.306853          -0.314683          -0.289588          -0.314039   \n",
       "\n",
       "   mean_test_score  std_test_score  rank_test_score  \n",
       "0        -0.271287        0.005381                3  \n",
       "1        -0.254673        0.004315                2  \n",
       "2        -0.253890        0.004873                1  \n",
       "3        -0.311791        0.013435                6  \n",
       "4        -0.304986        0.010956                5  \n",
       "5        -0.303843        0.010292                4  "
      ]
     },
     "execution_count": 76,
     "metadata": {},
     "output_type": "execute_result"
    }
   ],
   "source": [
    "df_cv_results_ = pd.DataFrame(grid_search.cv_results_)\n",
    "df_cv_results_"
   ]
  },
  {
   "cell_type": "code",
   "execution_count": 78,
   "metadata": {},
   "outputs": [
    {
     "data": {
      "text/plain": [
       "<AxesSubplot:xlabel='param_RandomForestRegressor__n_estimators', ylabel='mean_test_score'>"
      ]
     },
     "execution_count": 78,
     "metadata": {},
     "output_type": "execute_result"
    },
    {
     "data": {
      "image/png": "[encoded data removed]",
      "text/plain": [
       "<Figure size 432x288 with 1 Axes>"
      ]
     },
     "metadata": {
      "needs_background": "light"
     },
     "output_type": "display_data"
    }
   ],
   "source": [
    "import seaborn as sns\n",
    "sns.scatterplot(x=\"param_RandomForestRegressor__n_estimators\", y='mean_test_score', data=df_cv_results_)\n",
    "sns.scatterplot(x=\"param_RandomForestRegressor__max_depth\", y='mean_test_score', data=df_cv_results_)"
   ]
  },
  {
   "cell_type": "code",
   "execution_count": 85,
   "metadata": {},
   "outputs": [
    {
     "data": {
      "text/plain": [
       "<PandasArray>\n",
       "[ -0.2712865778567952,  -0.2546732049249821, -0.25388959163023456,\n",
       " -0.31179060856233093, -0.30498565821148693, -0.30384317849542686]\n",
       "Length: 6, dtype: float64"
      ]
     },
     "execution_count": 85,
     "metadata": {},
     "output_type": "execute_result"
    }
   ],
   "source": [
    "best_scores = df_cv_results_.mean_test_score.array\n",
    "best_scores"
   ]
  },
  {
   "cell_type": "markdown",
   "metadata": {},
   "source": [
    "**📝 Re-train your best pipeline on the whole (X,y) dataset**\n",
    "- Store the trained pipeline inside the `best_pipeline` variable"
   ]
  },
  {
   "cell_type": "code",
   "execution_count": 89,
   "metadata": {
    "ExecuteTime": {
     "end_time": "2021-06-29T17:30:18.200730Z",
     "start_time": "2021-06-29T17:30:14.992877Z"
    },
    "tags": [
     "challengify"
    ]
   },
   "outputs": [],
   "source": [
    "best_pipeline = grid_search.best_estimator_"
   ]
  },
  {
   "cell_type": "code",
   "execution_count": 96,
   "metadata": {},
   "outputs": [
    {
     "data": {
      "text/html": [
       "<style>#sk-40bf58b8-7897-45c2-8d53-dfc4265921bc {color: black;background-color: white;}#sk-40bf58b8-7897-45c2-8d53-dfc4265921bc pre{padding: 0;}#sk-40bf58b8-7897-45c2-8d53-dfc4265921bc div.sk-toggleable {background-color: white;}#sk-40bf58b8-7897-45c2-8d53-dfc4265921bc label.sk-toggleable__label {cursor: pointer;display: block;width: 100%;margin-bottom: 0;padding: 0.2em 0.3em;box-sizing: border-box;text-align: center;}#sk-40bf58b8-7897-45c2-8d53-dfc4265921bc div.sk-toggleable__content {max-height: 0;max-width: 0;overflow: hidden;text-align: left;background-color: #f0f8ff;}#sk-40bf58b8-7897-45c2-8d53-dfc4265921bc div.sk-toggleable__content pre {margin: 0.2em;color: black;border-radius: 0.25em;background-color: #f0f8ff;}#sk-40bf58b8-7897-45c2-8d53-dfc4265921bc input.sk-toggleable__control:checked~div.sk-toggleable__content {max-height: 200px;max-width: 100%;overflow: auto;}#sk-40bf58b8-7897-45c2-8d53-dfc4265921bc div.sk-estimator input.sk-toggleable__control:checked~label.sk-toggleable__label {background-color: #d4ebff;}#sk-40bf58b8-7897-45c2-8d53-dfc4265921bc div.sk-label input.sk-toggleable__control:checked~label.sk-toggleable__label {background-color: #d4ebff;}#sk-40bf58b8-7897-45c2-8d53-dfc4265921bc input.sk-hidden--visually {border: 0;clip: rect(1px 1px 1px 1px);clip: rect(1px, 1px, 1px, 1px);height: 1px;margin: -1px;overflow: hidden;padding: 0;position: absolute;width: 1px;}#sk-40bf58b8-7897-45c2-8d53-dfc4265921bc div.sk-estimator {font-family: monospace;background-color: #f0f8ff;margin: 0.25em 0.25em;border: 1px dotted black;border-radius: 0.25em;box-sizing: border-box;}#sk-40bf58b8-7897-45c2-8d53-dfc4265921bc div.sk-estimator:hover {background-color: #d4ebff;}#sk-40bf58b8-7897-45c2-8d53-dfc4265921bc div.sk-parallel-item::after {content: \"\";width: 100%;border-bottom: 1px solid gray;flex-grow: 1;}#sk-40bf58b8-7897-45c2-8d53-dfc4265921bc div.sk-label:hover label.sk-toggleable__label {background-color: #d4ebff;}#sk-40bf58b8-7897-45c2-8d53-dfc4265921bc div.sk-serial::before {content: \"\";position: absolute;border-left: 1px solid gray;box-sizing: border-box;top: 2em;bottom: 0;left: 50%;}#sk-40bf58b8-7897-45c2-8d53-dfc4265921bc div.sk-serial {display: flex;flex-direction: column;align-items: center;background-color: white;}#sk-40bf58b8-7897-45c2-8d53-dfc4265921bc div.sk-item {z-index: 1;}#sk-40bf58b8-7897-45c2-8d53-dfc4265921bc div.sk-parallel {display: flex;align-items: stretch;justify-content: center;background-color: white;}#sk-40bf58b8-7897-45c2-8d53-dfc4265921bc div.sk-parallel-item {display: flex;flex-direction: column;position: relative;background-color: white;}#sk-40bf58b8-7897-45c2-8d53-dfc4265921bc div.sk-parallel-item:first-child::after {align-self: flex-end;width: 50%;}#sk-40bf58b8-7897-45c2-8d53-dfc4265921bc div.sk-parallel-item:last-child::after {align-self: flex-start;width: 50%;}#sk-40bf58b8-7897-45c2-8d53-dfc4265921bc div.sk-parallel-item:only-child::after {width: 0;}#sk-40bf58b8-7897-45c2-8d53-dfc4265921bc div.sk-dashed-wrapped {border: 1px dashed gray;margin: 0.2em;box-sizing: border-box;padding-bottom: 0.1em;background-color: white;position: relative;}#sk-40bf58b8-7897-45c2-8d53-dfc4265921bc div.sk-label label {font-family: monospace;font-weight: bold;background-color: white;display: inline-block;line-height: 1.2em;}#sk-40bf58b8-7897-45c2-8d53-dfc4265921bc div.sk-label-container {position: relative;z-index: 2;text-align: center;}#sk-40bf58b8-7897-45c2-8d53-dfc4265921bc div.sk-container {display: inline-block;position: relative;}</style><div id=\"sk-40bf58b8-7897-45c2-8d53-dfc4265921bc\" class\"sk-top-container\"><div class=\"sk-container\"><div class=\"sk-item sk-dashed-wrapped\"><div class=\"sk-label-container\"><div class=\"sk-label sk-toggleable\"><input class=\"sk-toggleable__control sk-hidden--visually\" id=\"98323383-baf0-42b1-8049-6d736d7eee91\" type=\"checkbox\" ><label class=\"sk-toggleable__label\" for=\"98323383-baf0-42b1-8049-6d736d7eee91\">Pipeline</label><div class=\"sk-toggleable__content\"><pre>Pipeline(steps=[('preproc',\n",
       "                 ColumnTransformer(transformers=[('num_transformer',\n",
       "                                                  RobustScaler(),\n",
       "                                                  ['number_of_awards_won',\n",
       "                                                   'number_of_top_productions',\n",
       "                                                   'budget', 'duration_min',\n",
       "                                                   'number_of_nominations',\n",
       "                                                   'has_collection']),\n",
       "                                                 ('cat_transformer',\n",
       "                                                  OneHotEncoder(handle_unknown='ignore'),\n",
       "                                                  ['top_countries',\n",
       "                                                   'available_in_english',\n",
       "                                                   'original_language',\n",
       "                                                   'status', 'all_genres']),\n",
       "                                                 ('GenreAndCountry_encoder',\n",
       "                                                  CustomGenreAndCountryEncoder(),\n",
       "                                                  ['all_genres',\n",
       "                                                   'top_countries'])])),\n",
       "                ('RandomForestRegressor',\n",
       "                 RandomForestRegressor(n_estimators=500))])</pre></div></div></div><div class=\"sk-serial\"><div class=\"sk-item sk-dashed-wrapped\"><div class=\"sk-label-container\"><div class=\"sk-label sk-toggleable\"><input class=\"sk-toggleable__control sk-hidden--visually\" id=\"b9880d43-b489-4ddf-b0ac-84a7c013b7bf\" type=\"checkbox\" ><label class=\"sk-toggleable__label\" for=\"b9880d43-b489-4ddf-b0ac-84a7c013b7bf\">preproc: ColumnTransformer</label><div class=\"sk-toggleable__content\"><pre>ColumnTransformer(transformers=[('num_transformer', RobustScaler(),\n",
       "                                 ['number_of_awards_won',\n",
       "                                  'number_of_top_productions', 'budget',\n",
       "                                  'duration_min', 'number_of_nominations',\n",
       "                                  'has_collection']),\n",
       "                                ('cat_transformer',\n",
       "                                 OneHotEncoder(handle_unknown='ignore'),\n",
       "                                 ['top_countries', 'available_in_english',\n",
       "                                  'original_language', 'status',\n",
       "                                  'all_genres']),\n",
       "                                ('GenreAndCountry_encoder',\n",
       "                                 CustomGenreAndCountryEncoder(),\n",
       "                                 ['all_genres', 'top_countries'])])</pre></div></div></div><div class=\"sk-parallel\"><div class=\"sk-parallel-item\"><div class=\"sk-item\"><div class=\"sk-label-container\"><div class=\"sk-label sk-toggleable\"><input class=\"sk-toggleable__control sk-hidden--visually\" id=\"3a3d82fc-7e5c-4b24-98a9-cca50d3b4bf7\" type=\"checkbox\" ><label class=\"sk-toggleable__label\" for=\"3a3d82fc-7e5c-4b24-98a9-cca50d3b4bf7\">num_transformer</label><div class=\"sk-toggleable__content\"><pre>['number_of_awards_won', 'number_of_top_productions', 'budget', 'duration_min', 'number_of_nominations', 'has_collection']</pre></div></div></div><div class=\"sk-serial\"><div class=\"sk-item\"><div class=\"sk-estimator sk-toggleable\"><input class=\"sk-toggleable__control sk-hidden--visually\" id=\"d33fa6bb-d2d0-4557-b6f5-a99e01c24d5e\" type=\"checkbox\" ><label class=\"sk-toggleable__label\" for=\"d33fa6bb-d2d0-4557-b6f5-a99e01c24d5e\">RobustScaler</label><div class=\"sk-toggleable__content\"><pre>RobustScaler()</pre></div></div></div></div></div></div><div class=\"sk-parallel-item\"><div class=\"sk-item\"><div class=\"sk-label-container\"><div class=\"sk-label sk-toggleable\"><input class=\"sk-toggleable__control sk-hidden--visually\" id=\"f53114c0-5493-4466-a3d4-983cd44b2be8\" type=\"checkbox\" ><label class=\"sk-toggleable__label\" for=\"f53114c0-5493-4466-a3d4-983cd44b2be8\">cat_transformer</label><div class=\"sk-toggleable__content\"><pre>['top_countries', 'available_in_english', 'original_language', 'status', 'all_genres']</pre></div></div></div><div class=\"sk-serial\"><div class=\"sk-item\"><div class=\"sk-estimator sk-toggleable\"><input class=\"sk-toggleable__control sk-hidden--visually\" id=\"83bf0cb8-4454-444c-a15f-437814aca827\" type=\"checkbox\" ><label class=\"sk-toggleable__label\" for=\"83bf0cb8-4454-444c-a15f-437814aca827\">OneHotEncoder</label><div class=\"sk-toggleable__content\"><pre>OneHotEncoder(handle_unknown='ignore')</pre></div></div></div></div></div></div><div class=\"sk-parallel-item\"><div class=\"sk-item\"><div class=\"sk-label-container\"><div class=\"sk-label sk-toggleable\"><input class=\"sk-toggleable__control sk-hidden--visually\" id=\"290460b0-f770-4926-aac3-11fab1063d86\" type=\"checkbox\" ><label class=\"sk-toggleable__label\" for=\"290460b0-f770-4926-aac3-11fab1063d86\">GenreAndCountry_encoder</label><div class=\"sk-toggleable__content\"><pre>['all_genres', 'top_countries']</pre></div></div></div><div class=\"sk-serial\"><div class=\"sk-item\"><div class=\"sk-estimator sk-toggleable\"><input class=\"sk-toggleable__control sk-hidden--visually\" id=\"c65e5225-5ab0-44d0-b3b4-c50f4c26f2bd\" type=\"checkbox\" ><label class=\"sk-toggleable__label\" for=\"c65e5225-5ab0-44d0-b3b4-c50f4c26f2bd\">CustomGenreAndCountryEncoder</label><div class=\"sk-toggleable__content\"><pre>CustomGenreAndCountryEncoder()</pre></div></div></div></div></div></div></div></div><div class=\"sk-item\"><div class=\"sk-estimator sk-toggleable\"><input class=\"sk-toggleable__control sk-hidden--visually\" id=\"0812feff-2c9b-48e5-afb4-14cdbda9bb31\" type=\"checkbox\" ><label class=\"sk-toggleable__label\" for=\"0812feff-2c9b-48e5-afb4-14cdbda9bb31\">RandomForestRegressor</label><div class=\"sk-toggleable__content\"><pre>RandomForestRegressor(n_estimators=500)</pre></div></div></div></div></div></div></div>"
      ],
      "text/plain": [
       "Pipeline(steps=[('preproc',\n",
       "                 ColumnTransformer(transformers=[('num_transformer',\n",
       "                                                  RobustScaler(),\n",
       "                                                  ['number_of_awards_won',\n",
       "                                                   'number_of_top_productions',\n",
       "                                                   'budget', 'duration_min',\n",
       "                                                   'number_of_nominations',\n",
       "                                                   'has_collection']),\n",
       "                                                 ('cat_transformer',\n",
       "                                                  OneHotEncoder(handle_unknown='ignore'),\n",
       "                                                  ['top_countries',\n",
       "                                                   'available_in_english',\n",
       "                                                   'original_language',\n",
       "                                                   'status', 'all_genres']),\n",
       "                                                 ('GenreAndCountry_encoder',\n",
       "                                                  CustomGenreAndCountryEncoder(),\n",
       "                                                  ['all_genres',\n",
       "                                                   'top_countries'])])),\n",
       "                ('RandomForestRegressor',\n",
       "                 RandomForestRegressor(n_estimators=500))])"
      ]
     },
     "execution_count": 96,
     "metadata": {},
     "output_type": "execute_result"
    }
   ],
   "source": [
    "best_pipeline.fit(X, y)"
   ]
  },
  {
   "cell_type": "markdown",
   "metadata": {},
   "source": [
    "### Prediction\n",
    "\n",
    "Now you have your model tuned with the best hyperparameters, you are ready for a prediction.\n",
    "\n",
    "Here is a famous TV show released in 2017:\n",
    "\n",
    "```python\n",
    "dict(\n",
    "        original_title=str(\"La Casa de Papel\"),\n",
    "        title=str(\"Money Heist\"), \n",
    "        release_date= pd.to_datetime([\"2017-05-02\"]), \n",
    "        duration_min=float(50),\n",
    "        description=str(\"An unusual group of robbers attempt to carry out the most perfect robbery\"), \n",
    "        budget=float(3_000_000), \n",
    "        original_language =str(\"es\"), \n",
    "        status=str(\"Released\"),\n",
    "        number_of_awards_won =int(2), \n",
    "        number_of_nominations=int(5), \n",
    "        has_collection=int(1),\n",
    "        all_genres=str(\"Action, Crime, Mystery\"), \n",
    "        top_countries=str(\"Spain, France, United States of America\"), \n",
    "        number_of_top_productions=int('1'),\n",
    "        available_in_english=bool('True') \n",
    ")\n",
    "```\n",
    "\n",
    "**📝 Compute the predicted popularity of this TV show and store it into the `popularity` variable as a floating number.**"
   ]
  },
  {
   "cell_type": "code",
   "execution_count": 97,
   "metadata": {
    "ExecuteTime": {
     "end_time": "2021-06-29T17:30:18.209145Z",
     "start_time": "2021-06-29T17:30:18.202809Z"
    },
    "tags": [
     "challengify"
    ]
   },
   "outputs": [
    {
     "data": {
      "text/plain": [
       "10.749795062"
      ]
     },
     "execution_count": 97,
     "metadata": {},
     "output_type": "execute_result"
    }
   ],
   "source": [
    "dico_x =dict(\n",
    "            original_title=str(\"La Casa de Papel\"),\n",
    "            title=str(\"Money Heist\"), \n",
    "            release_date= pd.to_datetime([\"2017-05-02\"]), \n",
    "            duration_min=float(50),\n",
    "            description=str(\"An unusual group of robbers attempt to carry out the most perfect robbery\"), \n",
    "            budget=float(3_000_000), \n",
    "            original_language =str(\"es\"), \n",
    "            status=str(\"Released\"),\n",
    "            number_of_awards_won =int(2), \n",
    "            number_of_nominations=int(5), \n",
    "            has_collection=int(1),\n",
    "            all_genres=str(\"Action, Crime, Mystery\"), \n",
    "            top_countries=str(\"Spain, France, United States of America\"), \n",
    "            number_of_top_productions=int('1'),\n",
    "            available_in_english=bool('True') \n",
    "        )\n",
    "\n",
    "popularity = best_pipeline.predict(pd.DataFrame(dico_x))[0]\n",
    "popularity"
   ]
  },
  {
   "cell_type": "markdown",
   "metadata": {},
   "source": [
    "### 🧪 Save your results\n",
    "\n",
    "Run the following cell to save your results."
   ]
  },
  {
   "cell_type": "code",
   "execution_count": 99,
   "metadata": {
    "ExecuteTime": {
     "end_time": "2021-06-29T17:30:18.492068Z",
     "start_time": "2021-06-29T17:30:18.294946Z"
    }
   },
   "outputs": [],
   "source": [
    "ChallengeResult(\n",
    "    \"model_tuning\",\n",
    "    search=search,\n",
    "    best_pipeline=best_pipeline,\n",
    "    best_scores = best_scores,\n",
    "    popularity=popularity\n",
    ").write()"
   ]
  },
  {
   "cell_type": "markdown",
   "metadata": {},
   "source": [
    "## API \n",
    "\n",
    "Time to put a pipeline in production!\n",
    "\n",
    "👉 Go to https://github.com/lewagon/data-certification-api and follow instructions\n",
    "\n",
    "**This final part is independent from the above notebook**"
   ]
  }
 ],
 "metadata": {
  "interpreter": {
   "hash": "572b4e543617d03e90ecaf525e08695da1ff29b13594f787e33b342cf572f792"
  },
  "kernelspec": {
   "display_name": "Python 3",
   "language": "python",
   "name": "python3"
  },
  "language_info": {
   "codemirror_mode": {
    "name": "ipython",
    "version": 3
   },
   "file_extension": ".py",
   "mimetype": "text/x-python",
   "name": "python",
   "nbconvert_exporter": "python",
   "pygments_lexer": "ipython3",
   "version": "3.8.6"
  },
  "toc": {
   "base_numbering": 1,
   "nav_menu": {},
   "number_sections": true,
   "sideBar": true,
   "skip_h1_title": true,
   "title_cell": "Table of Contents",
   "title_sidebar": "Contents",
   "toc_cell": false,
   "toc_position": {
    "height": "calc(100% - 180px)",
    "left": "10px",
    "top": "150px",
    "width": "242px"
   },
   "toc_section_display": true,
   "toc_window_display": true
  },
  "varInspector": {
   "cols": {
    "lenName": 16,
    "lenType": 16,
    "lenVar": 40
   },
   "kernels_config": {
    "python": {
     "delete_cmd_postfix": "",
     "delete_cmd_prefix": "del ",
     "library": "var_list.py",
     "varRefreshCmd": "print(var_dic_list())"
    },
    "r": {
     "delete_cmd_postfix": ") ",
     "delete_cmd_prefix": "rm(",
     "library": "var_list.r",
     "varRefreshCmd": "cat(var_dic_list()) "
    }
   },
   "types_to_exclude": [
    "module",
    "function",
    "builtin_function_or_method",
    "instance",
    "_Feature"
   ],
   "window_display": false
  }
 },
 "nbformat": 4,
 "nbformat_minor": 4
}
